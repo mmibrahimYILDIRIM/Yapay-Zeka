{
 "cells": [
  {
   "cell_type": "markdown",
   "id": "ebe2f8d9",
   "metadata": {},
   "source": [
    "# Computer Vision - Bilgisayar Görmesi"
   ]
  },
  {
   "cell_type": "code",
   "execution_count": 1,
   "id": "21e44acd",
   "metadata": {},
   "outputs": [
    {
     "name": "stdout",
     "output_type": "stream",
     "text": [
      "Requirement already satisfied: opencv-python in c:\\users\\ibrahim\\anaconda3\\lib\\site-packages (4.12.0.88)\n",
      "Collecting numpy<2.3.0,>=2\n",
      "  Using cached numpy-2.0.2-cp39-cp39-win_amd64.whl (15.9 MB)\n",
      "Installing collected packages: numpy\n",
      "  Attempting uninstall: numpy\n",
      "    Found existing installation: numpy 1.24.4\n",
      "    Uninstalling numpy-1.24.4:\n",
      "      Successfully uninstalled numpy-1.24.4\n",
      "Successfully installed numpy-2.0.2\n",
      "Note: you may need to restart the kernel to use updated packages.\n"
     ]
    },
    {
     "name": "stderr",
     "output_type": "stream",
     "text": [
      "WARNING: Ignoring invalid distribution -pencv-python (c:\\users\\ibrahim\\anaconda3\\lib\\site-packages)\n",
      "WARNING: Ignoring invalid distribution -atplotlib (c:\\users\\ibrahim\\anaconda3\\lib\\site-packages)\n",
      "WARNING: Ignoring invalid distribution -pencv-python (c:\\users\\ibrahim\\anaconda3\\lib\\site-packages)\n",
      "WARNING: Ignoring invalid distribution -atplotlib (c:\\users\\ibrahim\\anaconda3\\lib\\site-packages)\n",
      "WARNING: Ignoring invalid distribution -pencv-python (c:\\users\\ibrahim\\anaconda3\\lib\\site-packages)\n",
      "WARNING: Ignoring invalid distribution -atplotlib (c:\\users\\ibrahim\\anaconda3\\lib\\site-packages)\n",
      "    WARNING: Ignoring invalid distribution -pencv-python (c:\\users\\ibrahim\\anaconda3\\lib\\site-packages)\n",
      "    WARNING: Ignoring invalid distribution -atplotlib (c:\\users\\ibrahim\\anaconda3\\lib\\site-packages)\n",
      "WARNING: Ignoring invalid distribution -pencv-python (c:\\users\\ibrahim\\anaconda3\\lib\\site-packages)\n",
      "WARNING: Ignoring invalid distribution -atplotlib (c:\\users\\ibrahim\\anaconda3\\lib\\site-packages)\n",
      "ERROR: pip's dependency resolver does not currently take into account all the packages that are installed. This behaviour is the source of the following dependency conflicts.\n",
      "daal4py 2021.6.0 requires daal==2021.4.0, which is not installed.\n",
      "scipy 1.9.1 requires numpy<1.25.0,>=1.18.5, but you have numpy 2.0.2 which is incompatible.\n",
      "numba 0.55.1 requires numpy<1.22,>=1.18, but you have numpy 2.0.2 which is incompatible.\n",
      "miceforest 6.0.3 requires pandas>=2.1.0, but you have pandas 1.5.3 which is incompatible.\n",
      "ansys-mapdl-core 0.68.4 requires numpy<2.0.0,>=1.14.0; python_version >= \"3.9\", but you have numpy 2.0.2 which is incompatible.\n",
      "WARNING: Ignoring invalid distribution -pencv-python (c:\\users\\ibrahim\\anaconda3\\lib\\site-packages)\n",
      "WARNING: Ignoring invalid distribution -atplotlib (c:\\users\\ibrahim\\anaconda3\\lib\\site-packages)\n",
      "WARNING: Ignoring invalid distribution -pencv-python (c:\\users\\ibrahim\\anaconda3\\lib\\site-packages)\n",
      "WARNING: Ignoring invalid distribution -atplotlib (c:\\users\\ibrahim\\anaconda3\\lib\\site-packages)\n",
      "WARNING: Ignoring invalid distribution -pencv-python (c:\\users\\ibrahim\\anaconda3\\lib\\site-packages)\n",
      "WARNING: Ignoring invalid distribution -atplotlib (c:\\users\\ibrahim\\anaconda3\\lib\\site-packages)\n"
     ]
    }
   ],
   "source": [
    "pip install opencv-python"
   ]
  },
  {
   "cell_type": "code",
   "execution_count": 2,
   "id": "5864dfc4",
   "metadata": {},
   "outputs": [
    {
     "name": "stdout",
     "output_type": "stream",
     "text": [
      "Requirement already satisfied: numpy in c:\\users\\ibrahim\\anaconda3\\lib\\site-packages (2.0.2)\n",
      "Requirement already satisfied: opencv-python in c:\\users\\ibrahim\\anaconda3\\lib\\site-packages (4.12.0.88)\n",
      "Note: you may need to restart the kernel to use updated packages.\n"
     ]
    },
    {
     "name": "stderr",
     "output_type": "stream",
     "text": [
      "WARNING: Ignoring invalid distribution -pencv-python (c:\\users\\ibrahim\\anaconda3\\lib\\site-packages)\n",
      "WARNING: Ignoring invalid distribution -atplotlib (c:\\users\\ibrahim\\anaconda3\\lib\\site-packages)\n",
      "WARNING: Ignoring invalid distribution -pencv-python (c:\\users\\ibrahim\\anaconda3\\lib\\site-packages)\n",
      "WARNING: Ignoring invalid distribution -atplotlib (c:\\users\\ibrahim\\anaconda3\\lib\\site-packages)\n",
      "WARNING: Ignoring invalid distribution -pencv-python (c:\\users\\ibrahim\\anaconda3\\lib\\site-packages)\n",
      "WARNING: Ignoring invalid distribution -atplotlib (c:\\users\\ibrahim\\anaconda3\\lib\\site-packages)\n",
      "WARNING: Ignoring invalid distribution -pencv-python (c:\\users\\ibrahim\\anaconda3\\lib\\site-packages)\n",
      "WARNING: Ignoring invalid distribution -atplotlib (c:\\users\\ibrahim\\anaconda3\\lib\\site-packages)\n",
      "WARNING: Ignoring invalid distribution -pencv-python (c:\\users\\ibrahim\\anaconda3\\lib\\site-packages)\n",
      "WARNING: Ignoring invalid distribution -atplotlib (c:\\users\\ibrahim\\anaconda3\\lib\\site-packages)\n",
      "WARNING: Ignoring invalid distribution -pencv-python (c:\\users\\ibrahim\\anaconda3\\lib\\site-packages)\n",
      "WARNING: Ignoring invalid distribution -atplotlib (c:\\users\\ibrahim\\anaconda3\\lib\\site-packages)\n"
     ]
    }
   ],
   "source": [
    "pip install --upgrade numpy opencv-python"
   ]
  },
  {
   "cell_type": "code",
   "execution_count": 3,
   "id": "4933c4d5",
   "metadata": {},
   "outputs": [],
   "source": [
    "import cv2\n",
    "import numpy as np"
   ]
  },
  {
   "cell_type": "code",
   "execution_count": 4,
   "id": "db638b33",
   "metadata": {},
   "outputs": [],
   "source": [
    "resim=cv2.imread('input.jpg')   #Resim okumak\n",
    "cv2.imshow('Merhaba',resim)  # Resmi rakam olarak değilde resim olarak görmek için , Başlık için Merhaba yazdık\n",
    "cv2.waitKey()               # Resim anlık gelip kaybolmasın\n",
    "cv2.destroyAllWindows()      # Klavyeden ne zaman bir tuşa basarsak o zaman kapanacak\n",
    "# Resimleri çarpıya basarak kapatmayacağız bunun için farklı bir yöntem kullanacağız\n",
    "# Resim aşağıda bir sekmede açılıyor bu şekilde görebilirsin herhangi bir tuşa basarak kapatacağız Çarpıya basmayacağız"
   ]
  },
  {
   "cell_type": "code",
   "execution_count": 5,
   "id": "ea2341ba",
   "metadata": {},
   "outputs": [
    {
     "data": {
      "text/plain": [
       "array([[[12, 18, 31],\n",
       "        [12, 18, 31],\n",
       "        [11, 17, 30],\n",
       "        ...,\n",
       "        [21, 24, 38],\n",
       "        [21, 24, 38],\n",
       "        [21, 24, 38]],\n",
       "\n",
       "       [[12, 18, 31],\n",
       "        [12, 18, 31],\n",
       "        [12, 18, 31],\n",
       "        ...,\n",
       "        [21, 24, 38],\n",
       "        [21, 24, 38],\n",
       "        [21, 24, 38]],\n",
       "\n",
       "       [[12, 18, 31],\n",
       "        [12, 18, 31],\n",
       "        [12, 18, 31],\n",
       "        ...,\n",
       "        [21, 24, 38],\n",
       "        [21, 24, 38],\n",
       "        [21, 24, 38]],\n",
       "\n",
       "       ...,\n",
       "\n",
       "       [[ 4,  7, 12],\n",
       "        [ 4,  7, 12],\n",
       "        [ 3,  7, 12],\n",
       "        ...,\n",
       "        [18, 23, 38],\n",
       "        [19, 24, 39],\n",
       "        [20, 25, 40]],\n",
       "\n",
       "       [[ 3,  6, 11],\n",
       "        [ 3,  6, 11],\n",
       "        [ 3,  6, 11],\n",
       "        ...,\n",
       "        [18, 23, 38],\n",
       "        [19, 24, 39],\n",
       "        [20, 25, 40]],\n",
       "\n",
       "       [[ 3,  6, 11],\n",
       "        [ 3,  6, 11],\n",
       "        [ 2,  5, 10],\n",
       "        ...,\n",
       "        [18, 23, 38],\n",
       "        [18, 23, 38],\n",
       "        [19, 24, 39]]], dtype=uint8)"
      ]
     },
     "execution_count": 5,
     "metadata": {},
     "output_type": "execute_result"
    }
   ],
   "source": [
    "resim   # Resim bu şekilde rakamlardan oluşuyor"
   ]
  },
  {
   "cell_type": "code",
   "execution_count": 6,
   "id": "92e35df2",
   "metadata": {},
   "outputs": [
    {
     "data": {
      "text/plain": [
       "(830, 1245, 3)"
      ]
     },
     "execution_count": 6,
     "metadata": {},
     "output_type": "execute_result"
    }
   ],
   "source": [
    "resim.shape   # 830 satır 1245 stün ve her bir hücrede 3 tane rakam var"
   ]
  },
  {
   "cell_type": "code",
   "execution_count": 7,
   "id": "815ffb32",
   "metadata": {},
   "outputs": [
    {
     "name": "stdout",
     "output_type": "stream",
     "text": [
      "Requirement already satisfied: numpy in c:\\users\\ibrahim\\anaconda3\\lib\\site-packages (2.0.2)\n",
      "Requirement already satisfied: matplotlib in c:\\users\\ibrahim\\anaconda3\\lib\\site-packages (3.9.4)\n",
      "Requirement already satisfied: python-dateutil>=2.7 in c:\\users\\ibrahim\\anaconda3\\lib\\site-packages (from matplotlib) (2.8.2)\n",
      "Requirement already satisfied: contourpy>=1.0.1 in c:\\users\\ibrahim\\anaconda3\\lib\\site-packages (from matplotlib) (1.3.0)\n",
      "Requirement already satisfied: pillow>=8 in c:\\users\\ibrahim\\anaconda3\\lib\\site-packages (from matplotlib) (9.5.0)\n",
      "Requirement already satisfied: importlib-resources>=3.2.0 in c:\\users\\ibrahim\\anaconda3\\lib\\site-packages (from matplotlib) (6.5.2)\n",
      "Requirement already satisfied: kiwisolver>=1.3.1 in c:\\users\\ibrahim\\anaconda3\\lib\\site-packages (from matplotlib) (1.4.2)\n",
      "Requirement already satisfied: cycler>=0.10 in c:\\users\\ibrahim\\anaconda3\\lib\\site-packages (from matplotlib) (0.11.0)\n",
      "Requirement already satisfied: pyparsing>=2.3.1 in c:\\users\\ibrahim\\anaconda3\\lib\\site-packages (from matplotlib) (3.0.9)\n",
      "Requirement already satisfied: packaging>=20.0 in c:\\users\\ibrahim\\anaconda3\\lib\\site-packages (from matplotlib) (21.3)\n",
      "Requirement already satisfied: fonttools>=4.22.0 in c:\\users\\ibrahim\\anaconda3\\lib\\site-packages (from matplotlib) (4.25.0)\n",
      "Requirement already satisfied: zipp>=3.1.0 in c:\\users\\ibrahim\\anaconda3\\lib\\site-packages (from importlib-resources>=3.2.0->matplotlib) (3.8.0)\n",
      "Requirement already satisfied: six>=1.5 in c:\\users\\ibrahim\\anaconda3\\lib\\site-packages (from python-dateutil>=2.7->matplotlib) (1.16.0)\n",
      "Note: you may need to restart the kernel to use updated packages.\n"
     ]
    },
    {
     "name": "stderr",
     "output_type": "stream",
     "text": [
      "WARNING: Ignoring invalid distribution -pencv-python (c:\\users\\ibrahim\\anaconda3\\lib\\site-packages)\n",
      "WARNING: Ignoring invalid distribution -atplotlib (c:\\users\\ibrahim\\anaconda3\\lib\\site-packages)\n",
      "WARNING: Ignoring invalid distribution -pencv-python (c:\\users\\ibrahim\\anaconda3\\lib\\site-packages)\n",
      "WARNING: Ignoring invalid distribution -atplotlib (c:\\users\\ibrahim\\anaconda3\\lib\\site-packages)\n",
      "WARNING: Ignoring invalid distribution -pencv-python (c:\\users\\ibrahim\\anaconda3\\lib\\site-packages)\n",
      "WARNING: Ignoring invalid distribution -atplotlib (c:\\users\\ibrahim\\anaconda3\\lib\\site-packages)\n",
      "WARNING: Ignoring invalid distribution -pencv-python (c:\\users\\ibrahim\\anaconda3\\lib\\site-packages)\n",
      "WARNING: Ignoring invalid distribution -atplotlib (c:\\users\\ibrahim\\anaconda3\\lib\\site-packages)\n",
      "WARNING: Ignoring invalid distribution -pencv-python (c:\\users\\ibrahim\\anaconda3\\lib\\site-packages)\n",
      "WARNING: Ignoring invalid distribution -atplotlib (c:\\users\\ibrahim\\anaconda3\\lib\\site-packages)\n",
      "WARNING: Ignoring invalid distribution -pencv-python (c:\\users\\ibrahim\\anaconda3\\lib\\site-packages)\n",
      "WARNING: Ignoring invalid distribution -atplotlib (c:\\users\\ibrahim\\anaconda3\\lib\\site-packages)\n"
     ]
    }
   ],
   "source": [
    "pip install --upgrade numpy matplotlib"
   ]
  },
  {
   "cell_type": "code",
   "execution_count": 8,
   "id": "169533bb",
   "metadata": {},
   "outputs": [],
   "source": [
    "import matplotlib.pyplot as plt"
   ]
  },
  {
   "cell_type": "code",
   "execution_count": 9,
   "id": "d21f8df3",
   "metadata": {},
   "outputs": [
    {
     "name": "stdout",
     "output_type": "stream",
     "text": [
      "[[0. 1. 0. 1. 0. 1. 0. 1. 0.]\n",
      " [1. 0. 1. 0. 1. 0. 1. 0. 1.]\n",
      " [0. 1. 0. 1. 0. 1. 0. 1. 0.]\n",
      " [1. 0. 1. 0. 1. 0. 1. 0. 1.]\n",
      " [0. 1. 0. 1. 0. 1. 0. 1. 0.]\n",
      " [1. 0. 1. 0. 1. 0. 1. 0. 1.]\n",
      " [0. 1. 0. 1. 0. 1. 0. 1. 0.]\n",
      " [1. 0. 1. 0. 1. 0. 1. 0. 1.]\n",
      " [0. 1. 0. 1. 0. 1. 0. 1. 0.]]\n"
     ]
    }
   ],
   "source": [
    "checkboard=np.zeros((9,9))\n",
    "checkboard[0::2,1::2]=1\n",
    "checkboard[1::2,0::2]=1\n",
    "print(checkboard)"
   ]
  },
  {
   "cell_type": "code",
   "execution_count": 10,
   "id": "fa3e8789",
   "metadata": {},
   "outputs": [],
   "source": [
    "# Resimler vektör old için birbirinden çıkarıp toplama vs işlemleri yapabiliyoruz"
   ]
  },
  {
   "cell_type": "code",
   "execution_count": 11,
   "id": "6487e9a0",
   "metadata": {},
   "outputs": [],
   "source": [
    "import matplotlib.image as mpig"
   ]
  },
  {
   "cell_type": "code",
   "execution_count": 12,
   "id": "41e4d491",
   "metadata": {},
   "outputs": [
    {
     "data": {
      "text/plain": [
       "<matplotlib.image.AxesImage at 0x215499043d0>"
      ]
     },
     "execution_count": 12,
     "metadata": {},
     "output_type": "execute_result"
    },
    {
     "data": {
      "image/png": "[encoded data removed]",
      "text/plain": [
       "<Figure size 640x480 with 1 Axes>"
      ]
     },
     "metadata": {},
     "output_type": "display_data"
    }
   ],
   "source": [
    "plt.imshow(checkboard,cmap='gray',interpolation='nearest')   # Satranç tahtası yaptık"
   ]
  },
  {
   "cell_type": "code",
   "execution_count": 13,
   "id": "7c2deace",
   "metadata": {},
   "outputs": [
    {
     "name": "stdout",
     "output_type": "stream",
     "text": [
      "Requirement already satisfied: numpy in c:\\users\\ibrahim\\anaconda3\\lib\\site-packages (2.0.2)\n",
      "Requirement already satisfied: scikit-image in c:\\users\\ibrahim\\anaconda3\\lib\\site-packages (0.19.2)\n",
      "Collecting scikit-image\n",
      "  Using cached scikit_image-0.24.0-cp39-cp39-win_amd64.whl (12.9 MB)\n",
      "Requirement already satisfied: packaging>=21 in c:\\users\\ibrahim\\anaconda3\\lib\\site-packages (from scikit-image) (21.3)\n",
      "Requirement already satisfied: pillow>=9.1 in c:\\users\\ibrahim\\anaconda3\\lib\\site-packages (from scikit-image) (9.5.0)\n",
      "Collecting tifffile>=2022.8.12\n",
      "  Using cached tifffile-2024.8.30-py3-none-any.whl (227 kB)\n",
      "Requirement already satisfied: scipy>=1.9 in c:\\users\\ibrahim\\anaconda3\\lib\\site-packages (from scikit-image) (1.9.1)\n",
      "Collecting lazy-loader>=0.4\n",
      "  Using cached lazy_loader-0.4-py3-none-any.whl (12 kB)\n",
      "Requirement already satisfied: networkx>=2.8 in c:\\users\\ibrahim\\anaconda3\\lib\\site-packages (from scikit-image) (2.8.4)\n",
      "Collecting imageio>=2.33\n",
      "  Using cached imageio-2.37.0-py3-none-any.whl (315 kB)\n",
      "Requirement already satisfied: pyparsing!=3.0.5,>=2.0.2 in c:\\users\\ibrahim\\anaconda3\\lib\\site-packages (from packaging>=21->scikit-image) (3.0.9)\n",
      "Collecting numpy\n",
      "  Using cached numpy-1.24.4-cp39-cp39-win_amd64.whl (14.9 MB)\n",
      "Installing collected packages: numpy, tifffile, lazy-loader, imageio, scikit-image\n",
      "  Attempting uninstall: numpy\n",
      "    Found existing installation: numpy 2.0.2\n",
      "    Uninstalling numpy-2.0.2:\n",
      "      Successfully uninstalled numpy-2.0.2\n",
      "Note: you may need to restart the kernel to use updated packages.\n"
     ]
    },
    {
     "name": "stderr",
     "output_type": "stream",
     "text": [
      "WARNING: Ignoring invalid distribution -pencv-python (c:\\users\\ibrahim\\anaconda3\\lib\\site-packages)\n",
      "WARNING: Ignoring invalid distribution -atplotlib (c:\\users\\ibrahim\\anaconda3\\lib\\site-packages)\n",
      "WARNING: Ignoring invalid distribution -pencv-python (c:\\users\\ibrahim\\anaconda3\\lib\\site-packages)\n",
      "WARNING: Ignoring invalid distribution -atplotlib (c:\\users\\ibrahim\\anaconda3\\lib\\site-packages)\n",
      "WARNING: Ignoring invalid distribution -pencv-python (c:\\users\\ibrahim\\anaconda3\\lib\\site-packages)\n",
      "WARNING: Ignoring invalid distribution -atplotlib (c:\\users\\ibrahim\\anaconda3\\lib\\site-packages)\n",
      "    WARNING: Ignoring invalid distribution -pencv-python (c:\\users\\ibrahim\\anaconda3\\lib\\site-packages)\n",
      "    WARNING: Ignoring invalid distribution -atplotlib (c:\\users\\ibrahim\\anaconda3\\lib\\site-packages)\n",
      "ERROR: Could not install packages due to an OSError: [WinError 5] Erişim engellendi: 'C:\\\\Users\\\\ibrahim\\\\anaconda3\\\\Lib\\\\site-packages\\\\~=mpy.libs\\\\libscipy_openblas64_-caad452230ae4ddb57899b8b3a33c55c.dll'\n",
      "Consider using the `--user` option or check the permissions.\n",
      "\n",
      "WARNING: Ignoring invalid distribution -pencv-python (c:\\users\\ibrahim\\anaconda3\\lib\\site-packages)\n",
      "WARNING: Ignoring invalid distribution -atplotlib (c:\\users\\ibrahim\\anaconda3\\lib\\site-packages)\n",
      "WARNING: Ignoring invalid distribution -pencv-python (c:\\users\\ibrahim\\anaconda3\\lib\\site-packages)\n",
      "WARNING: Ignoring invalid distribution -atplotlib (c:\\users\\ibrahim\\anaconda3\\lib\\site-packages)\n",
      "WARNING: Ignoring invalid distribution -pencv-python (c:\\users\\ibrahim\\anaconda3\\lib\\site-packages)\n",
      "WARNING: Ignoring invalid distribution -atplotlib (c:\\users\\ibrahim\\anaconda3\\lib\\site-packages)\n"
     ]
    }
   ],
   "source": [
    "pip install --upgrade numpy scikit-image"
   ]
  },
  {
   "cell_type": "code",
   "execution_count": 15,
   "id": "59589f59",
   "metadata": {},
   "outputs": [
    {
     "name": "stderr",
     "output_type": "stream",
     "text": [
      "C:\\Users\\ibrahim\\anaconda3\\lib\\site-packages\\paramiko\\transport.py:219: CryptographyDeprecationWarning: Blowfish has been deprecated\n",
      "  \"class\": algorithms.Blowfish,\n"
     ]
    }
   ],
   "source": [
    "from skimage import data  "
   ]
  },
  {
   "cell_type": "code",
   "execution_count": 16,
   "id": "dfc5e699",
   "metadata": {},
   "outputs": [
    {
     "data": {
      "text/plain": [
       "array([[0.28888887, 0.32941177, 0.38039216, 0.50326794, 0.47973856,\n",
       "        0.50457519, 0.55947715, 0.54901963, 0.56732029, 0.57516342,\n",
       "        0.59738559, 0.61307186, 0.59607846, 0.56078434, 0.54248363,\n",
       "        0.49281046, 0.45359477, 0.44183007, 0.2522876 , 0.23529412,\n",
       "        0.4261438 , 0.49673203, 0.72418302, 0.69934636, 0.43529412],\n",
       "       [0.29411766, 0.33333334, 0.44052288, 0.52026147, 0.49934641,\n",
       "        0.53464049, 0.55424833, 0.59869283, 0.6156863 , 0.61960787,\n",
       "        0.620915  , 0.63660127, 0.62875813, 0.6326797 , 0.59215689,\n",
       "        0.52418303, 0.47581699, 0.44705883, 0.34640524, 0.32287583,\n",
       "        0.33202612, 0.59738559, 0.81830066, 0.77777773, 0.27843139],\n",
       "       [0.35294119, 0.41568628, 0.42745098, 0.48104575, 0.50457519,\n",
       "        0.52287579, 0.53594774, 0.63529414, 0.65359479, 0.620915  ,\n",
       "        0.61830068, 0.64444441, 0.61830068, 0.61830068, 0.60000002,\n",
       "        0.53856206, 0.46405229, 0.43137255, 0.37254903, 0.37908494,\n",
       "        0.29411766, 0.50065356, 0.60915029, 0.53856206, 0.36732024],\n",
       "       [0.41176471, 0.43006536, 0.49542484, 0.48627451, 0.50980395,\n",
       "        0.52679735, 0.53071892, 0.60915029, 0.57516342, 0.59869283,\n",
       "        0.63006538, 0.64705884, 0.63921571, 0.63398695, 0.59738559,\n",
       "        0.54248363, 0.46013072, 0.41699347, 0.39607844, 0.30718955,\n",
       "        0.26274511, 0.48627451, 0.26143789, 0.1856209 , 0.19477125],\n",
       "       [0.43137255, 0.49673203, 0.47712418, 0.46797386, 0.48627451,\n",
       "        0.53071892, 0.5411765 , 0.60130715, 0.63660127, 0.61830068,\n",
       "        0.59869283, 0.61437911, 0.63006538, 0.61699343, 0.5581699 ,\n",
       "        0.5281046 , 0.47973856, 0.45228758, 0.4130719 , 0.3594771 ,\n",
       "        0.23921569, 0.36993465, 0.1856209 , 0.16732027, 0.19084968],\n",
       "       [0.48104575, 0.47320262, 0.39869279, 0.43921569, 0.47973856,\n",
       "        0.54248363, 0.55032676, 0.58954245, 0.62614381, 0.61960787,\n",
       "        0.61960787, 0.62222224, 0.63137257, 0.620915  , 0.57908499,\n",
       "        0.54771245, 0.49542484, 0.43137255, 0.44052288, 0.27712417,\n",
       "        0.22222222, 0.41437906, 0.1751634 , 0.1751634 , 0.19084968],\n",
       "       [0.42483661, 0.42222223, 0.35816994, 0.46797386, 0.50326794,\n",
       "        0.51503265, 0.43529412, 0.49019608, 0.53725493, 0.49803922,\n",
       "        0.47189543, 0.55947715, 0.56209147, 0.55424833, 0.42091504,\n",
       "        0.36862746, 0.28627452, 0.29934642, 0.34640524, 0.28627452,\n",
       "        0.32549021, 0.31895426, 0.18431373, 0.18431373, 0.20261438],\n",
       "       [0.36862746, 0.31764707, 0.4627451 , 0.49803922, 0.48235294,\n",
       "        0.4379085 , 0.43921569, 0.38039216, 0.3019608 , 0.31111112,\n",
       "        0.40915033, 0.44836602, 0.49542484, 0.47189543, 0.33725491,\n",
       "        0.28104573, 0.41437906, 0.41437906, 0.35032681, 0.43267974,\n",
       "        0.37385622, 0.31764707, 0.17908497, 0.19869281, 0.19869281],\n",
       "       [0.20784314, 0.29411766, 0.50718951, 0.48104575, 0.47450981,\n",
       "        0.45228758, 0.47189543, 0.42745098, 0.28235295, 0.27189544,\n",
       "        0.28888887, 0.45751634, 0.61045754, 0.34509805, 0.25098041,\n",
       "        0.17908497, 0.16078432, 0.2       , 0.43006536, 0.47712418,\n",
       "        0.29934642, 0.59346402, 0.41568628, 0.31503269, 0.1738562 ],\n",
       "       [0.26274511, 0.27973858, 0.46928105, 0.50718951, 0.56601304,\n",
       "        0.49803922, 0.4509804 , 0.55163401, 0.31111112, 0.52287579,\n",
       "        0.52549022, 0.52026147, 0.59346402, 0.42091504, 0.43921569,\n",
       "        0.50065356, 0.46535948, 0.5281046 , 0.47320262, 0.45228758,\n",
       "        0.21699347, 0.81045753, 0.74640518, 0.35424837, 0.15294118],\n",
       "       [0.30326799, 0.4130719 , 0.45882353, 0.50588238, 0.58562088,\n",
       "        0.57124186, 0.57516342, 0.59607846, 0.53986931, 0.5411765 ,\n",
       "        0.58300656, 0.48366013, 0.55555558, 0.44444445, 0.47320262,\n",
       "        0.52026147, 0.52026147, 0.49019608, 0.53856206, 0.47058824,\n",
       "        0.41045749, 0.80130714, 0.71241832, 0.33464053, 0.1633987 ],\n",
       "       [0.42091504, 0.40522876, 0.43529412, 0.49150327, 0.55555558,\n",
       "        0.60130715, 0.61045754, 0.63006538, 0.61176473, 0.65620911,\n",
       "        0.5281046 , 0.53333336, 0.56601304, 0.48496732, 0.46143791,\n",
       "        0.5281046 , 0.56601304, 0.55555558, 0.48235294, 0.43921569,\n",
       "        0.47581699, 0.50326794, 0.35555553, 0.28888887, 0.20130718],\n",
       "       [0.53725493, 0.43137255, 0.4627451 , 0.47843137, 0.50065356,\n",
       "        0.57124186, 0.64444441, 0.627451  , 0.64836597, 0.64052284,\n",
       "        0.50457519, 0.5411765 , 0.63660127, 0.55555558, 0.44967321,\n",
       "        0.48496732, 0.61437911, 0.55686277, 0.44183007, 0.42091504,\n",
       "        0.42483661, 0.19738561, 0.21568628, 0.22875817, 0.22875817],\n",
       "       [0.42483661, 0.44313726, 0.44444445, 0.45620915, 0.49019608,\n",
       "        0.50588238, 0.57908499, 0.60130715, 0.6026144 , 0.53071892,\n",
       "        0.54509807, 0.55163401, 0.56078434, 0.61176473, 0.43398693,\n",
       "        0.41437906, 0.48235294, 0.49803922, 0.42091504, 0.41045749,\n",
       "        0.38954249, 0.19084968, 0.21960784, 0.22614379, 0.23529412],\n",
       "       [0.46797386, 0.43529412, 0.45228758, 0.46797386, 0.50457519,\n",
       "        0.4875817 , 0.52026147, 0.53594774, 0.50196081, 0.47320262,\n",
       "        0.39477122, 0.29803923, 0.49411765, 0.49281046, 0.26797387,\n",
       "        0.40784314, 0.38039216, 0.44705883, 0.38954249, 0.39869279,\n",
       "        0.20261438, 0.18300654, 0.20915033, 0.22875817, 0.23529412],\n",
       "       [0.4261438 , 0.39607844, 0.44575164, 0.46143791, 0.51241833,\n",
       "        0.47450981, 0.49019608, 0.49673203, 0.4509804 , 0.5581699 ,\n",
       "        0.58039218, 0.54901963, 0.40653592, 0.40261436, 0.41960785,\n",
       "        0.4261438 , 0.35686275, 0.3764706 , 0.37516338, 0.4130719 ,\n",
       "        0.1751634 , 0.17777777, 0.2130719 , 0.21699347, 0.23137255],\n",
       "       [0.37124181, 0.37516338, 0.41437906, 0.44705883, 0.49673203,\n",
       "        0.49019608, 0.50326794, 0.51503265, 0.50718951, 0.50980395,\n",
       "        0.58562088, 0.60392159, 0.55032676, 0.55163401, 0.47320262,\n",
       "        0.41045749, 0.37254903, 0.4013072 , 0.4130719 , 0.36732024,\n",
       "        0.4130719 , 0.30718955, 0.18692811, 0.30849671, 0.22614379],\n",
       "       [0.13986929, 0.08888888, 0.38562092, 0.44183007, 0.46535948,\n",
       "        0.52287579, 0.53594774, 0.50588238, 0.48104575, 0.46928105,\n",
       "        0.49019608, 0.54771245, 0.53725493, 0.54901963, 0.46666667,\n",
       "        0.39084965, 0.3764706 , 0.4261438 , 0.37908494, 0.20392157,\n",
       "        0.08627451, 0.09019608, 0.1124183 , 0.0627451 , 0.22745098],\n",
       "       [0.10980392, 0.09934641, 0.32810456, 0.41960785, 0.4627451 ,\n",
       "        0.50065356, 0.5464052 , 0.50326794, 0.48104575, 0.36601308,\n",
       "        0.16470589, 0.09019608, 0.11503268, 0.10980392, 0.06535947,\n",
       "        0.2496732 , 0.41960785, 0.43398693, 0.37908494, 0.08627451,\n",
       "        0.09281045, 0.06797386, 0.075817  , 0.03660131, 0.06797386],\n",
       "       [0.09673202, 0.44313726, 0.49934641, 0.40000001, 0.46535948,\n",
       "        0.47581699, 0.51111108, 0.53333336, 0.4875817 , 0.15163399,\n",
       "        0.13202615, 0.16732027, 0.21437909, 0.21176471, 0.16601306,\n",
       "        0.32287583, 0.39477122, 0.43529412, 0.37777779, 0.09019608,\n",
       "        0.07843138, 0.0875817 , 0.06797386, 0.04836601, 0.075817  ],\n",
       "       [0.10588235, 0.44967321, 0.67843139, 0.35686275, 0.41437906,\n",
       "        0.42745098, 0.49542484, 0.49542484, 0.52026147, 0.56862748,\n",
       "        0.56862748, 0.44967321, 0.44183007, 0.52418303, 0.43137255,\n",
       "        0.40784314, 0.49934641, 0.40522876, 0.15163399, 0.10196079,\n",
       "        0.07189543, 0.06797386, 0.07189543, 0.06013072, 0.07189543],\n",
       "       [0.10326798, 0.26013073, 0.84444445, 0.37385622, 0.37124181,\n",
       "        0.41176471, 0.46797386, 0.5411765 , 0.54509807, 0.51895422,\n",
       "        0.5281046 , 0.55163401, 0.53986931, 0.55163401, 0.41176471,\n",
       "        0.41437906, 0.47712418, 0.35816994, 0.07712418, 0.0875817 ,\n",
       "        0.07843138, 0.06013072, 0.07189543, 0.07189543, 0.06797386],\n",
       "       [0.10980392, 0.10588235, 0.80653596, 0.77516341, 0.36732024,\n",
       "        0.39346406, 0.42222223, 0.53202617, 0.57908499, 0.52156866,\n",
       "        0.47973856, 0.44444445, 0.39477122, 0.38954249, 0.35816994,\n",
       "        0.42745098, 0.43137255, 0.14509805, 0.08366013, 0.08627451,\n",
       "        0.075817  , 0.06013072, 0.05620915, 0.07189543, 0.075817  ],\n",
       "       [0.10588235, 0.11372549, 0.81307185, 0.80000001, 0.7647059 ,\n",
       "        0.38039216, 0.39215687, 0.46405229, 0.58300656, 0.56732029,\n",
       "        0.53986931, 0.50849676, 0.49673203, 0.46143791, 0.42745098,\n",
       "        0.48235294, 0.30980393, 0.0875817 , 0.07320261, 0.08366013,\n",
       "        0.0875817 , 0.06405229, 0.04444444, 0.06013072, 0.07189543],\n",
       "       [0.09150327, 0.0875817 , 0.66405225, 0.84052289, 0.8143791 ,\n",
       "        0.82222223, 0.37777779, 0.36862746, 0.52679735, 0.60130715,\n",
       "        0.59477127, 0.57385617, 0.55686277, 0.54248363, 0.51764709,\n",
       "        0.45620915, 0.16732027, 0.08235294, 0.07058824, 0.06797386,\n",
       "        0.07450981, 0.06013072, 0.05620915, 0.06405229, 0.06797386]])"
      ]
     },
     "execution_count": 16,
     "metadata": {},
     "output_type": "execute_result"
    }
   ],
   "source": [
    "bush=data.lfw_subset()\n",
    "bush=bush[0,:,:]\n",
    "bush"
   ]
  },
  {
   "cell_type": "code",
   "execution_count": 17,
   "id": "c2973c24",
   "metadata": {},
   "outputs": [
    {
     "data": {
      "text/plain": [
       "<matplotlib.image.AxesImage at 0x2154bf4d310>"
      ]
     },
     "execution_count": 17,
     "metadata": {},
     "output_type": "execute_result"
    },
    {
     "data": {
      "image/png": "[encoded data removed]",
      "text/plain": [
       "<Figure size 300x300 with 1 Axes>"
      ]
     },
     "metadata": {},
     "output_type": "display_data"
    }
   ],
   "source": [
    "plt.figure(figsize=(3,3))\n",
    "plt.imshow(bush, cmap='gray')"
   ]
  },
  {
   "cell_type": "code",
   "execution_count": 18,
   "id": "87517cef",
   "metadata": {},
   "outputs": [
    {
     "data": {
      "text/plain": [
       "(25, 25)"
      ]
     },
     "execution_count": 18,
     "metadata": {},
     "output_type": "execute_result"
    }
   ],
   "source": [
    "bush.shape   # 25x25 pixel"
   ]
  },
  {
   "cell_type": "code",
   "execution_count": 21,
   "id": "6ce4a074",
   "metadata": {},
   "outputs": [
    {
     "name": "stdout",
     "output_type": "stream",
     "text": [
      "Requirement already satisfied: numpy in c:\\users\\ibrahim\\anaconda3\\lib\\site-packages (1.24.4)\n",
      "Collecting numpy\n",
      "  Using cached numpy-2.0.2-cp39-cp39-win_amd64.whl (15.9 MB)\n",
      "Installing collected packages: numpy\n",
      "  Attempting uninstall: numpy\n",
      "    Found existing installation: numpy 1.24.4\n",
      "    Uninstalling numpy-1.24.4:\n",
      "      Successfully uninstalled numpy-1.24.4\n"
     ]
    },
    {
     "name": "stderr",
     "output_type": "stream",
     "text": [
      "WARNING: Ignoring invalid distribution -pencv-python (c:\\users\\ibrahim\\anaconda3\\lib\\site-packages)\n",
      "WARNING: Ignoring invalid distribution -atplotlib (c:\\users\\ibrahim\\anaconda3\\lib\\site-packages)\n",
      "WARNING: Ignoring invalid distribution -pencv-python (c:\\users\\ibrahim\\anaconda3\\lib\\site-packages)\n",
      "WARNING: Ignoring invalid distribution -atplotlib (c:\\users\\ibrahim\\anaconda3\\lib\\site-packages)\n",
      "WARNING: Ignoring invalid distribution -pencv-python (c:\\users\\ibrahim\\anaconda3\\lib\\site-packages)\n",
      "WARNING: Ignoring invalid distribution -atplotlib (c:\\users\\ibrahim\\anaconda3\\lib\\site-packages)\n",
      "    WARNING: Ignoring invalid distribution -pencv-python (c:\\users\\ibrahim\\anaconda3\\lib\\site-packages)\n",
      "    WARNING: Ignoring invalid distribution -atplotlib (c:\\users\\ibrahim\\anaconda3\\lib\\site-packages)\n",
      "ERROR: Could not install packages due to an OSError: [WinError 5] Erişim engellendi: 'C:\\\\Users\\\\ibrahim\\\\anaconda3\\\\Lib\\\\site-packages\\\\~5mpy\\\\random\\\\mtrand.cp39-win_amd64.pyd'\n",
      "Consider using the `--user` option or check the permissions.\n",
      "\n",
      "WARNING: Ignoring invalid distribution -pencv-python (c:\\users\\ibrahim\\anaconda3\\lib\\site-packages)\n",
      "WARNING: Ignoring invalid distribution -atplotlib (c:\\users\\ibrahim\\anaconda3\\lib\\site-packages)\n",
      "WARNING: Ignoring invalid distribution -pencv-python (c:\\users\\ibrahim\\anaconda3\\lib\\site-packages)\n",
      "WARNING: Ignoring invalid distribution -atplotlib (c:\\users\\ibrahim\\anaconda3\\lib\\site-packages)\n",
      "WARNING: Ignoring invalid distribution -pencv-python (c:\\users\\ibrahim\\anaconda3\\lib\\site-packages)\n",
      "WARNING: Ignoring invalid distribution -atplotlib (c:\\users\\ibrahim\\anaconda3\\lib\\site-packages)\n"
     ]
    },
    {
     "name": "stdout",
     "output_type": "stream",
     "text": [
      "Requirement already satisfied: scikit-image in c:\\users\\ibrahim\\anaconda3\\lib\\site-packages (0.24.0)\n",
      "Requirement already satisfied: scipy in c:\\users\\ibrahim\\anaconda3\\lib\\site-packages (1.9.1)\n",
      "Collecting scipy\n",
      "  Downloading scipy-1.13.1-cp39-cp39-win_amd64.whl (46.2 MB)\n",
      "     ---------------------------------------- 46.2/46.2 MB 1.0 MB/s eta 0:00:00\n",
      "Requirement already satisfied: imageio>=2.33 in c:\\users\\ibrahim\\anaconda3\\lib\\site-packages (from scikit-image) (2.37.0)\n",
      "Requirement already satisfied: packaging>=21 in c:\\users\\ibrahim\\anaconda3\\lib\\site-packages (from scikit-image) (21.3)\n",
      "Requirement already satisfied: numpy>=1.23 in c:\\users\\ibrahim\\anaconda3\\lib\\site-packages (from scikit-image) (2.0.2)\n",
      "Requirement already satisfied: tifffile>=2022.8.12 in c:\\users\\ibrahim\\anaconda3\\lib\\site-packages (from scikit-image) (2024.8.30)\n",
      "Requirement already satisfied: networkx>=2.8 in c:\\users\\ibrahim\\anaconda3\\lib\\site-packages (from scikit-image) (2.8.4)\n",
      "Requirement already satisfied: pillow>=9.1 in c:\\users\\ibrahim\\anaconda3\\lib\\site-packages (from scikit-image) (9.5.0)\n",
      "Requirement already satisfied: lazy-loader>=0.4 in c:\\users\\ibrahim\\anaconda3\\lib\\site-packages (from scikit-image) (0.4)\n",
      "Requirement already satisfied: pyparsing!=3.0.5,>=2.0.2 in c:\\users\\ibrahim\\anaconda3\\lib\\site-packages (from packaging>=21->scikit-image) (3.0.9)\n",
      "Installing collected packages: scipy\n",
      "  Attempting uninstall: scipy\n",
      "    Found existing installation: scipy 1.9.1\n",
      "    Uninstalling scipy-1.9.1:\n",
      "      Successfully uninstalled scipy-1.9.1\n",
      "Successfully installed scipy-1.13.1\n"
     ]
    },
    {
     "name": "stderr",
     "output_type": "stream",
     "text": [
      "WARNING: Ignoring invalid distribution -pencv-python (c:\\users\\ibrahim\\anaconda3\\lib\\site-packages)\n",
      "WARNING: Ignoring invalid distribution -atplotlib (c:\\users\\ibrahim\\anaconda3\\lib\\site-packages)\n",
      "WARNING: Ignoring invalid distribution -pencv-python (c:\\users\\ibrahim\\anaconda3\\lib\\site-packages)\n",
      "WARNING: Ignoring invalid distribution -atplotlib (c:\\users\\ibrahim\\anaconda3\\lib\\site-packages)\n",
      "WARNING: Ignoring invalid distribution -pencv-python (c:\\users\\ibrahim\\anaconda3\\lib\\site-packages)\n",
      "WARNING: Ignoring invalid distribution -atplotlib (c:\\users\\ibrahim\\anaconda3\\lib\\site-packages)\n",
      "    WARNING: Ignoring invalid distribution -pencv-python (c:\\users\\ibrahim\\anaconda3\\lib\\site-packages)\n",
      "    WARNING: Ignoring invalid distribution -atplotlib (c:\\users\\ibrahim\\anaconda3\\lib\\site-packages)\n",
      "WARNING: Ignoring invalid distribution -pencv-python (c:\\users\\ibrahim\\anaconda3\\lib\\site-packages)\n",
      "WARNING: Ignoring invalid distribution -atplotlib (c:\\users\\ibrahim\\anaconda3\\lib\\site-packages)\n",
      "ERROR: pip's dependency resolver does not currently take into account all the packages that are installed. This behaviour is the source of the following dependency conflicts.\n",
      "miceforest 6.0.3 requires pandas>=2.1.0, but you have pandas 1.5.3 which is incompatible.\n",
      "ansys-mapdl-core 0.68.4 requires numpy<2.0.0,>=1.14.0; python_version >= \"3.9\", but you have numpy 2.0.2 which is incompatible.\n",
      "WARNING: Ignoring invalid distribution -pencv-python (c:\\users\\ibrahim\\anaconda3\\lib\\site-packages)\n",
      "WARNING: Ignoring invalid distribution -atplotlib (c:\\users\\ibrahim\\anaconda3\\lib\\site-packages)\n",
      "WARNING: Ignoring invalid distribution -pencv-python (c:\\users\\ibrahim\\anaconda3\\lib\\site-packages)\n",
      "WARNING: Ignoring invalid distribution -atplotlib (c:\\users\\ibrahim\\anaconda3\\lib\\site-packages)\n",
      "WARNING: Ignoring invalid distribution -pencv-python (c:\\users\\ibrahim\\anaconda3\\lib\\site-packages)\n",
      "WARNING: Ignoring invalid distribution -atplotlib (c:\\users\\ibrahim\\anaconda3\\lib\\site-packages)\n"
     ]
    }
   ],
   "source": [
    "!pip install --upgrade numpy\n",
    "!pip install --upgrade scikit-image scipy"
   ]
  },
  {
   "cell_type": "code",
   "execution_count": 19,
   "id": "c102d310",
   "metadata": {},
   "outputs": [
    {
     "ename": "ValueError",
     "evalue": "numpy.dtype size changed, may indicate binary incompatibility. Expected 96 from C header, got 88 from PyObject",
     "output_type": "error",
     "traceback": [
      "\u001b[1;31m---------------------------------------------------------------------------\u001b[0m",
      "\u001b[1;31mValueError\u001b[0m                                Traceback (most recent call last)",
      "\u001b[1;32m~\\AppData\\Local\\Temp\\ipykernel_123228\\3938098074.py\u001b[0m in \u001b[0;36m<module>\u001b[1;34m\u001b[0m\n\u001b[1;32m----> 1\u001b[1;33m \u001b[0mimage\u001b[0m\u001b[1;33m=\u001b[0m\u001b[0mdata\u001b[0m\u001b[1;33m.\u001b[0m\u001b[0mastronaut\u001b[0m\u001b[1;33m(\u001b[0m\u001b[1;33m)\u001b[0m\u001b[1;33m\u001b[0m\u001b[1;33m\u001b[0m\u001b[0m\n\u001b[0m\u001b[0;32m      2\u001b[0m \u001b[0mplt\u001b[0m\u001b[1;33m.\u001b[0m\u001b[0mimshow\u001b[0m\u001b[1;33m(\u001b[0m\u001b[0mimage\u001b[0m\u001b[1;33m)\u001b[0m\u001b[1;33m\u001b[0m\u001b[1;33m\u001b[0m\u001b[0m\n",
      "\u001b[1;32m~\\anaconda3\\lib\\site-packages\\skimage\\data\\_fetchers.py\u001b[0m in \u001b[0;36mastronaut\u001b[1;34m()\u001b[0m\n\u001b[0;32m    399\u001b[0m     \"\"\"\n\u001b[0;32m    400\u001b[0m \u001b[1;33m\u001b[0m\u001b[0m\n\u001b[1;32m--> 401\u001b[1;33m     \u001b[1;32mreturn\u001b[0m \u001b[0m_load\u001b[0m\u001b[1;33m(\u001b[0m\u001b[1;34m\"data/astronaut.png\"\u001b[0m\u001b[1;33m)\u001b[0m\u001b[1;33m\u001b[0m\u001b[1;33m\u001b[0m\u001b[0m\n\u001b[0m\u001b[0;32m    402\u001b[0m \u001b[1;33m\u001b[0m\u001b[0m\n\u001b[0;32m    403\u001b[0m \u001b[1;33m\u001b[0m\u001b[0m\n",
      "\u001b[1;32m~\\anaconda3\\lib\\site-packages\\skimage\\data\\_fetchers.py\u001b[0m in \u001b[0;36m_load\u001b[1;34m(f, as_gray)\u001b[0m\n\u001b[0;32m    332\u001b[0m     \u001b[1;31m# importing io is quite slow since it scans all the backends\u001b[0m\u001b[1;33m\u001b[0m\u001b[1;33m\u001b[0m\u001b[0m\n\u001b[0;32m    333\u001b[0m     \u001b[1;31m# we lazy import it here\u001b[0m\u001b[1;33m\u001b[0m\u001b[1;33m\u001b[0m\u001b[0m\n\u001b[1;32m--> 334\u001b[1;33m     \u001b[1;32mfrom\u001b[0m \u001b[1;33m.\u001b[0m\u001b[1;33m.\u001b[0m\u001b[0mio\u001b[0m \u001b[1;32mimport\u001b[0m \u001b[0mimread\u001b[0m\u001b[1;33m\u001b[0m\u001b[1;33m\u001b[0m\u001b[0m\n\u001b[0m\u001b[0;32m    335\u001b[0m \u001b[1;33m\u001b[0m\u001b[0m\n\u001b[0;32m    336\u001b[0m     \u001b[1;32mreturn\u001b[0m \u001b[0mimread\u001b[0m\u001b[1;33m(\u001b[0m\u001b[0m_fetch\u001b[0m\u001b[1;33m(\u001b[0m\u001b[0mf\u001b[0m\u001b[1;33m)\u001b[0m\u001b[1;33m,\u001b[0m \u001b[0mas_gray\u001b[0m\u001b[1;33m=\u001b[0m\u001b[0mas_gray\u001b[0m\u001b[1;33m)\u001b[0m\u001b[1;33m\u001b[0m\u001b[1;33m\u001b[0m\u001b[0m\n",
      "\u001b[1;32m~\\anaconda3\\lib\\site-packages\\skimage\\io\\__init__.py\u001b[0m in \u001b[0;36m<module>\u001b[1;34m\u001b[0m\n\u001b[0;32m      9\u001b[0m \u001b[1;32mfrom\u001b[0m \u001b[1;33m.\u001b[0m\u001b[0mcollection\u001b[0m \u001b[1;32mimport\u001b[0m \u001b[1;33m*\u001b[0m\u001b[1;33m\u001b[0m\u001b[1;33m\u001b[0m\u001b[0m\n\u001b[0;32m     10\u001b[0m \u001b[1;33m\u001b[0m\u001b[0m\n\u001b[1;32m---> 11\u001b[1;33m \u001b[1;32mfrom\u001b[0m \u001b[1;33m.\u001b[0m\u001b[0m_io\u001b[0m \u001b[1;32mimport\u001b[0m \u001b[1;33m*\u001b[0m\u001b[1;33m\u001b[0m\u001b[1;33m\u001b[0m\u001b[0m\n\u001b[0m\u001b[0;32m     12\u001b[0m \u001b[1;32mfrom\u001b[0m \u001b[1;33m.\u001b[0m\u001b[0m_image_stack\u001b[0m \u001b[1;32mimport\u001b[0m \u001b[1;33m*\u001b[0m\u001b[1;33m\u001b[0m\u001b[1;33m\u001b[0m\u001b[0m\n\u001b[0;32m     13\u001b[0m \u001b[1;33m\u001b[0m\u001b[0m\n",
      "\u001b[1;32m~\\anaconda3\\lib\\site-packages\\skimage\\io\\_io.py\u001b[0m in \u001b[0;36m<module>\u001b[1;34m\u001b[0m\n\u001b[0;32m      6\u001b[0m \u001b[1;32mfrom\u001b[0m \u001b[1;33m.\u001b[0m\u001b[1;33m.\u001b[0m\u001b[0m_shared\u001b[0m\u001b[1;33m.\u001b[0m\u001b[0mversion_requirements\u001b[0m \u001b[1;32mimport\u001b[0m \u001b[0mrequire\u001b[0m\u001b[1;33m\u001b[0m\u001b[1;33m\u001b[0m\u001b[0m\n\u001b[0;32m      7\u001b[0m \u001b[1;32mfrom\u001b[0m \u001b[1;33m.\u001b[0m\u001b[1;33m.\u001b[0m\u001b[0mexposure\u001b[0m \u001b[1;32mimport\u001b[0m \u001b[0mis_low_contrast\u001b[0m\u001b[1;33m\u001b[0m\u001b[1;33m\u001b[0m\u001b[0m\n\u001b[1;32m----> 8\u001b[1;33m \u001b[1;32mfrom\u001b[0m \u001b[1;33m.\u001b[0m\u001b[1;33m.\u001b[0m\u001b[0mcolor\u001b[0m\u001b[1;33m.\u001b[0m\u001b[0mcolorconv\u001b[0m \u001b[1;32mimport\u001b[0m \u001b[0mrgb2gray\u001b[0m\u001b[1;33m,\u001b[0m \u001b[0mrgba2rgb\u001b[0m\u001b[1;33m\u001b[0m\u001b[1;33m\u001b[0m\u001b[0m\n\u001b[0m\u001b[0;32m      9\u001b[0m \u001b[1;32mfrom\u001b[0m \u001b[1;33m.\u001b[0m\u001b[1;33m.\u001b[0m\u001b[0mio\u001b[0m\u001b[1;33m.\u001b[0m\u001b[0mmanage_plugins\u001b[0m \u001b[1;32mimport\u001b[0m \u001b[0mcall_plugin\u001b[0m\u001b[1;33m\u001b[0m\u001b[1;33m\u001b[0m\u001b[0m\n\u001b[0;32m     10\u001b[0m \u001b[1;32mfrom\u001b[0m \u001b[1;33m.\u001b[0m\u001b[0mutil\u001b[0m \u001b[1;32mimport\u001b[0m \u001b[0mfile_or_url_context\u001b[0m\u001b[1;33m\u001b[0m\u001b[1;33m\u001b[0m\u001b[0m\n",
      "\u001b[1;32m~\\anaconda3\\lib\\site-packages\\skimage\\color\\colorconv.py\u001b[0m in \u001b[0;36m<module>\u001b[1;34m\u001b[0m\n\u001b[0;32m     53\u001b[0m \u001b[1;33m\u001b[0m\u001b[0m\n\u001b[0;32m     54\u001b[0m \u001b[1;32mimport\u001b[0m \u001b[0mnumpy\u001b[0m \u001b[1;32mas\u001b[0m \u001b[0mnp\u001b[0m\u001b[1;33m\u001b[0m\u001b[1;33m\u001b[0m\u001b[0m\n\u001b[1;32m---> 55\u001b[1;33m \u001b[1;32mfrom\u001b[0m \u001b[0mscipy\u001b[0m \u001b[1;32mimport\u001b[0m \u001b[0mlinalg\u001b[0m\u001b[1;33m\u001b[0m\u001b[1;33m\u001b[0m\u001b[0m\n\u001b[0m\u001b[0;32m     56\u001b[0m \u001b[1;33m\u001b[0m\u001b[0m\n\u001b[0;32m     57\u001b[0m \u001b[1;33m\u001b[0m\u001b[0m\n",
      "\u001b[1;32m~\\anaconda3\\lib\\site-packages\\scipy\\__init__.py\u001b[0m in \u001b[0;36m<module>\u001b[1;34m\u001b[0m\n\u001b[0;32m     88\u001b[0m     \u001b[1;32mif\u001b[0m \u001b[0m_key\u001b[0m\u001b[1;33m.\u001b[0m\u001b[0mstartswith\u001b[0m\u001b[1;33m(\u001b[0m\u001b[1;34m'_'\u001b[0m\u001b[1;33m)\u001b[0m\u001b[1;33m:\u001b[0m\u001b[1;33m\u001b[0m\u001b[1;33m\u001b[0m\u001b[0m\n\u001b[0;32m     89\u001b[0m         \u001b[1;32mcontinue\u001b[0m\u001b[1;33m\u001b[0m\u001b[1;33m\u001b[0m\u001b[0m\n\u001b[1;32m---> 90\u001b[1;33m     \u001b[0m_fun\u001b[0m \u001b[1;33m=\u001b[0m \u001b[0mgetattr\u001b[0m\u001b[1;33m(\u001b[0m\u001b[0mnp\u001b[0m\u001b[1;33m,\u001b[0m \u001b[0m_key\u001b[0m\u001b[1;33m)\u001b[0m\u001b[1;33m\u001b[0m\u001b[1;33m\u001b[0m\u001b[0m\n\u001b[0m\u001b[0;32m     91\u001b[0m     \u001b[1;32mif\u001b[0m \u001b[0misinstance\u001b[0m\u001b[1;33m(\u001b[0m\u001b[0m_fun\u001b[0m\u001b[1;33m,\u001b[0m \u001b[0m_types\u001b[0m\u001b[1;33m.\u001b[0m\u001b[0mModuleType\u001b[0m\u001b[1;33m)\u001b[0m\u001b[1;33m:\u001b[0m\u001b[1;33m\u001b[0m\u001b[1;33m\u001b[0m\u001b[0m\n\u001b[0;32m     92\u001b[0m         \u001b[1;32mcontinue\u001b[0m\u001b[1;33m\u001b[0m\u001b[1;33m\u001b[0m\u001b[0m\n",
      "\u001b[1;32m~\\anaconda3\\lib\\site-packages\\numpy\\__init__.py\u001b[0m in \u001b[0;36m__getattr__\u001b[1;34m(attr)\u001b[0m\n\u001b[0;32m    365\u001b[0m         \"\"\"\n\u001b[0;32m    366\u001b[0m         \u001b[1;32mtry\u001b[0m\u001b[1;33m:\u001b[0m\u001b[1;33m\u001b[0m\u001b[1;33m\u001b[0m\u001b[0m\n\u001b[1;32m--> 367\u001b[1;33m             \u001b[0mc\u001b[0m \u001b[1;33m=\u001b[0m \u001b[0marray\u001b[0m\u001b[1;33m(\u001b[0m\u001b[1;33m[\u001b[0m\u001b[1;36m3.\u001b[0m\u001b[1;33m,\u001b[0m \u001b[1;36m2.\u001b[0m\u001b[1;33m,\u001b[0m \u001b[1;36m1.\u001b[0m\u001b[1;33m]\u001b[0m\u001b[1;33m)\u001b[0m\u001b[1;33m\u001b[0m\u001b[1;33m\u001b[0m\u001b[0m\n\u001b[0m\u001b[0;32m    368\u001b[0m             \u001b[0mx\u001b[0m \u001b[1;33m=\u001b[0m \u001b[0mlinspace\u001b[0m\u001b[1;33m(\u001b[0m\u001b[1;36m0\u001b[0m\u001b[1;33m,\u001b[0m \u001b[1;36m2\u001b[0m\u001b[1;33m,\u001b[0m \u001b[1;36m5\u001b[0m\u001b[1;33m)\u001b[0m\u001b[1;33m\u001b[0m\u001b[1;33m\u001b[0m\u001b[0m\n\u001b[0;32m    369\u001b[0m             \u001b[0my\u001b[0m \u001b[1;33m=\u001b[0m \u001b[0mpolyval\u001b[0m\u001b[1;33m(\u001b[0m\u001b[0mc\u001b[0m\u001b[1;33m,\u001b[0m \u001b[0mx\u001b[0m\u001b[1;33m)\u001b[0m\u001b[1;33m\u001b[0m\u001b[1;33m\u001b[0m\u001b[0m\n",
      "\u001b[1;32m~\\anaconda3\\lib\\site-packages\\numpy\\random\\__init__.py\u001b[0m in \u001b[0;36m<module>\u001b[1;34m\u001b[0m\n\u001b[0;32m    178\u001b[0m \u001b[1;33m\u001b[0m\u001b[0m\n\u001b[0;32m    179\u001b[0m \u001b[1;31m# add these for module-freeze analysis (like PyInstaller)\u001b[0m\u001b[1;33m\u001b[0m\u001b[1;33m\u001b[0m\u001b[0m\n\u001b[1;32m--> 180\u001b[1;33m \u001b[1;32mfrom\u001b[0m \u001b[1;33m.\u001b[0m \u001b[1;32mimport\u001b[0m \u001b[0m_pickle\u001b[0m\u001b[1;33m\u001b[0m\u001b[1;33m\u001b[0m\u001b[0m\n\u001b[0m\u001b[0;32m    181\u001b[0m \u001b[1;32mfrom\u001b[0m \u001b[1;33m.\u001b[0m \u001b[1;32mimport\u001b[0m \u001b[0m_common\u001b[0m\u001b[1;33m\u001b[0m\u001b[1;33m\u001b[0m\u001b[0m\n\u001b[0;32m    182\u001b[0m \u001b[1;32mfrom\u001b[0m \u001b[1;33m.\u001b[0m \u001b[1;32mimport\u001b[0m \u001b[0m_bounded_integers\u001b[0m\u001b[1;33m\u001b[0m\u001b[1;33m\u001b[0m\u001b[0m\n",
      "\u001b[1;32m~\\anaconda3\\lib\\site-packages\\numpy\\random\\_pickle.py\u001b[0m in \u001b[0;36m<module>\u001b[1;34m\u001b[0m\n\u001b[1;32m----> 1\u001b[1;33m \u001b[1;32mfrom\u001b[0m \u001b[1;33m.\u001b[0m\u001b[0mmtrand\u001b[0m \u001b[1;32mimport\u001b[0m \u001b[0mRandomState\u001b[0m\u001b[1;33m\u001b[0m\u001b[1;33m\u001b[0m\u001b[0m\n\u001b[0m\u001b[0;32m      2\u001b[0m \u001b[1;32mfrom\u001b[0m \u001b[1;33m.\u001b[0m\u001b[0m_philox\u001b[0m \u001b[1;32mimport\u001b[0m \u001b[0mPhilox\u001b[0m\u001b[1;33m\u001b[0m\u001b[1;33m\u001b[0m\u001b[0m\n\u001b[0;32m      3\u001b[0m \u001b[1;32mfrom\u001b[0m \u001b[1;33m.\u001b[0m\u001b[0m_pcg64\u001b[0m \u001b[1;32mimport\u001b[0m \u001b[0mPCG64\u001b[0m\u001b[1;33m,\u001b[0m \u001b[0mPCG64DXSM\u001b[0m\u001b[1;33m\u001b[0m\u001b[1;33m\u001b[0m\u001b[0m\n\u001b[0;32m      4\u001b[0m \u001b[1;32mfrom\u001b[0m \u001b[1;33m.\u001b[0m\u001b[0m_sfc64\u001b[0m \u001b[1;32mimport\u001b[0m \u001b[0mSFC64\u001b[0m\u001b[1;33m\u001b[0m\u001b[1;33m\u001b[0m\u001b[0m\n\u001b[0;32m      5\u001b[0m \u001b[1;33m\u001b[0m\u001b[0m\n",
      "\u001b[1;32mmtrand.pyx\u001b[0m in \u001b[0;36minit numpy.random.mtrand\u001b[1;34m()\u001b[0m\n",
      "\u001b[1;31mValueError\u001b[0m: numpy.dtype size changed, may indicate binary incompatibility. Expected 96 from C header, got 88 from PyObject"
     ]
    }
   ],
   "source": [
    "image=data.astronaut()\n",
    "plt.imshow(image)"
   ]
  },
  {
   "cell_type": "code",
   "execution_count": 22,
   "id": "8988858d",
   "metadata": {},
   "outputs": [],
   "source": [
    "image=cv2.imread('input.jpg')    # Resmi göreceğimiz için hepsini aynı satıra yazıyoruz\n",
    "sb=cv2.cvtColor(image,cv2.COLOR_BGR2GRAY)   # Resmi siyah beyaza çevirdik\n",
    "\n",
    "cv2.imshow('Original',image)\n",
    "cv2.waitKey()\n",
    "cv2.imshow('Siyah Beyaz',sb)\n",
    "cv2.waitKey()\n",
    "cv2.destroyAllWindows()\n"
   ]
  },
  {
   "cell_type": "code",
   "execution_count": 23,
   "id": "cc6efbca",
   "metadata": {},
   "outputs": [],
   "source": [
    "image=cv2.imread('input.jpg',0)    # 0 yazarsak resmi siyah-beyaz olarak okuyor\n",
    "\n",
    "cv2.imshow('Siyah Beyaz',sb)\n",
    "cv2.waitKey()\n",
    "cv2.destroyAllWindows()\n"
   ]
  },
  {
   "cell_type": "code",
   "execution_count": 24,
   "id": "5499f8f7",
   "metadata": {},
   "outputs": [],
   "source": [
    "image=cv2.imread('input.jpg')    # Resmi göreceğimiz için hepsini aynı satıra yazıyoruz\n",
    "hsv=cv2.cvtColor(image,cv2.COLOR_BGR2HSV)   # HSV ile insan gözü gibi görüyor\n",
    "\n",
    "cv2.imshow('Original',image)\n",
    "cv2.waitKey()\n",
    "cv2.imshow('HSV',hsv)\n",
    "cv2.waitKey()\n",
    "cv2.destroyAllWindows()\n"
   ]
  },
  {
   "cell_type": "code",
   "execution_count": 25,
   "id": "c1a490f4",
   "metadata": {},
   "outputs": [],
   "source": [
    "image=cv2.imread('input.jpg')\n",
    "\n",
    "hsv_image=cv2.cvtColor(image,cv2.COLOR_BGR2HSV)\n",
    "\n",
    "cv2.imshow(\"HSV image\",hsv_image[:,:,:])\n",
    "cv2.imshow(\"Hue channel\",hsv_image[:,:,0])\n",
    "cv2.imshow(\"Saturation channel\",hsv_image[:,:,1])\n",
    "cv2.imshow(\"Calue channel\",hsv_image[:,:,2])\n",
    "cv2.waitKey()\n",
    "cv2.destroyAllWindows()\n",
    "# Resmi kanallara ayırdık 3 farklı rengi ayrı ayrı ayırdık"
   ]
  },
  {
   "cell_type": "code",
   "execution_count": 26,
   "id": "5783bcb2",
   "metadata": {},
   "outputs": [
    {
     "name": "stdout",
     "output_type": "stream",
     "text": [
      "(830, 1245)\n"
     ]
    }
   ],
   "source": [
    "image = cv2.imread(\"input.jpg\")\n",
    "B,G,R =cv2.split(image)\n",
    "print(B.shape)\n",
    "cv2.imshow(\"Red\",R)\n",
    "cv2.imshow(\"Green\",G)\n",
    "cv2.imshow(\"Blue\",B)\n",
    "cv2.waitKey(0)\n",
    "cv2.destroyAllWindows()\n",
    "merged = cv2.merge([B,G,R])\n",
    "cv2.imshow(\"Merged\",merged)\n",
    "merged= cv2.merge([B+100,G,R+100])\n",
    "cv2.imshow(\"Merged with Blue Amplified\",merged)\n",
    "cv2.waitKey(0)\n",
    "cv2.destroyAllWindows()\n",
    "# 3 farklı renkten oluşan resmi renklerine bölebiliyoruz yangın için işe yarar"
   ]
  },
  {
   "cell_type": "code",
   "execution_count": 27,
   "id": "4448f702",
   "metadata": {},
   "outputs": [],
   "source": [
    "# Otonom araçlar yollarını nasıl bulur  .canny ile bunu bulduruyoruz"
   ]
  },
  {
   "cell_type": "code",
   "execution_count": 28,
   "id": "af7cf28f",
   "metadata": {},
   "outputs": [],
   "source": [
    "image = cv2.imread('input.jpg',0)\n",
    "\n",
    "height,width = image.shape[:2]\n",
    "\n",
    "sobel_x = cv2.Sobel(image,cv2.CV_64F,0,1,ksize = 5)\n",
    "sobel_y = cv2.Sobel(image,cv2.CV_64F,1,0,ksize = 5)\n",
    "\n",
    "cv2.imshow('Rotated Image',image)\n",
    "cv2.waitKey(0)\n",
    "cv2.imshow('Sobel X',sobel_x)\n",
    "cv2.waitKey(0)\n",
    "cv2.imshow('Sobel Y',sobel_y)\n",
    "cv2.waitKey(0)\n",
    "\n",
    "sobel_OR = cv2.bitwise_or(sobel_x,sobel_y)\n",
    "cv2.imshow('sobel_OR',sobel_OR)\n",
    "cv2.waitKey(0)\n",
    "\n",
    "laplacian = cv2.Laplacian(image,cv2.CV_64F)\n",
    "cv2.imshow('Laplacian',laplacian)\n",
    "cv2.waitKey(0)\n",
    "\n",
    "canny = cv2.Canny(image,50,120)\n",
    "cv2.imshow('Canny',canny)\n",
    "cv2.waitKey(0)\n",
    "\n",
    "\n",
    "cv2.destroyAllWindows()\n",
    "# Canny şeritleri buluyor bir nesnenin bitip diğerinin başladığını anlıyor"
   ]
  },
  {
   "cell_type": "code",
   "execution_count": 29,
   "id": "1c7639b4",
   "metadata": {},
   "outputs": [
    {
     "name": "stdout",
     "output_type": "stream",
     "text": [
      "done\n"
     ]
    }
   ],
   "source": [
    "def sketch(image):\n",
    "    img_gray = cv2.cvtColor(image,cv2.COLOR_BGR2GRAY)\n",
    "\n",
    "    img_gray_blur = cv2.GaussianBlur(img_gray,(5,5),0)\n",
    "    canny_edges = cv2.Canny(img_gray_blur,10,70)\n",
    "    ret,mask = cv2.threshold(canny_edges,250,255,cv2.THRESH_BINARY_INV)\n",
    "    return mask\n",
    "\n",
    "cap = cv2.VideoCapture(0)   # Videdodan görüntü alıyor saniyede 24 resim göstermesi gerekiyor\n",
    "\n",
    "while True:\n",
    "    ret,frame = cap.read()\n",
    "    cv2.imshow('Our live Sketcher',sketch(frame))\n",
    "    if cv2.waitKey(1) == 13:    # 13 enter demek\n",
    "        break\n",
    "cap.release()\n",
    "cv2.destroyAllWindows()\n",
    "print('done')\n",
    "# Kendi canlı sketchini yapıyoruz"
   ]
  },
  {
   "cell_type": "code",
   "execution_count": 30,
   "id": "dfdc4c78",
   "metadata": {},
   "outputs": [],
   "source": [
    "# Where is Waldo\n",
    "image=cv2.imread('WaldoBeach.jpg')\n",
    "\n",
    "cv2.imshow('Where is Waldo',image)\n",
    "cv2.waitKey()\n",
    "gray=cv2.imread('WaldoBeach.jpg',0)  \n",
    "waldo=cv2.imread('Waldo.jpg',0)   #Bütün resimler ne olursa olsun siyah-beyaza çeviriyoruz 0 ona yarıyor\n",
    "\n",
    "result=cv2.matchTemplate(gray,waldo,cv2.TM_CCOEFF)    # gray resmi içerisinde waldo var mı onu aratıyoruz\n",
    "minval, maxval,minloc,maxloc=cv2.minMaxLoc(result)    # Bulduğu yerin minvalue,maxvalue ve koordinatlarını veriyoruz ve oraya dörtgen çizdirceğiz\n",
    "\n",
    "top_left=maxloc     # En üst köşeyi bulduk\n",
    "bottom_right=(top_left[0]+50,top_left[1]+50)   # Dörtgen çizmek için 50 pixel ekletiyoruz bu denklemi işliyoruz\n",
    "cv2.rectangle(image,top_left,bottom_right,(0,0,255),5)   # Ve dörtgen çizdirdik ve kırmızı çizgi için 0 0 255 kodunu girdik kalınlık için 5 girdik\n",
    "\n",
    "cv2.imshow('Where is Waldo',image)\n",
    "cv2.waitKey()\n",
    "cv2.destroyAllWindows()\n",
    "# Binlerce insan içerisinde Waldoyu bulacağız"
   ]
  },
  {
   "cell_type": "code",
   "execution_count": 31,
   "id": "9da0751a",
   "metadata": {},
   "outputs": [],
   "source": [
    "waldo=cv2.imread('Waldo.jpg')   #Resim okumak\n",
    "cv2.imshow('Merhaba',waldo)  # Resmi rakam olarak değilde resim olarak görmek için , Başlık için Merhaba yazdık\n",
    "cv2.waitKey()               # Resim anlık gelip kaybolmasın\n",
    "cv2.destroyAllWindows()"
   ]
  },
  {
   "cell_type": "code",
   "execution_count": 32,
   "id": "49d43888",
   "metadata": {},
   "outputs": [
    {
     "name": "stdout",
     "output_type": "stream",
     "text": [
      "Requirement already satisfied: imutils in c:\\users\\ibrahim\\anaconda3\\lib\\site-packages (0.5.4)\n",
      "Note: you may need to restart the kernel to use updated packages.\n"
     ]
    },
    {
     "name": "stderr",
     "output_type": "stream",
     "text": [
      "WARNING: Ignoring invalid distribution -pencv-python (c:\\users\\ibrahim\\anaconda3\\lib\\site-packages)\n",
      "WARNING: Ignoring invalid distribution -atplotlib (c:\\users\\ibrahim\\anaconda3\\lib\\site-packages)\n",
      "WARNING: Ignoring invalid distribution -pencv-python (c:\\users\\ibrahim\\anaconda3\\lib\\site-packages)\n",
      "WARNING: Ignoring invalid distribution -atplotlib (c:\\users\\ibrahim\\anaconda3\\lib\\site-packages)\n",
      "WARNING: Ignoring invalid distribution -pencv-python (c:\\users\\ibrahim\\anaconda3\\lib\\site-packages)\n",
      "WARNING: Ignoring invalid distribution -atplotlib (c:\\users\\ibrahim\\anaconda3\\lib\\site-packages)\n",
      "WARNING: Ignoring invalid distribution -pencv-python (c:\\users\\ibrahim\\anaconda3\\lib\\site-packages)\n",
      "WARNING: Ignoring invalid distribution -atplotlib (c:\\users\\ibrahim\\anaconda3\\lib\\site-packages)\n",
      "WARNING: Ignoring invalid distribution -pencv-python (c:\\users\\ibrahim\\anaconda3\\lib\\site-packages)\n",
      "WARNING: Ignoring invalid distribution -atplotlib (c:\\users\\ibrahim\\anaconda3\\lib\\site-packages)\n",
      "WARNING: Ignoring invalid distribution -pencv-python (c:\\users\\ibrahim\\anaconda3\\lib\\site-packages)\n",
      "WARNING: Ignoring invalid distribution -atplotlib (c:\\users\\ibrahim\\anaconda3\\lib\\site-packages)\n"
     ]
    }
   ],
   "source": [
    "pip install imutils"
   ]
  },
  {
   "cell_type": "code",
   "execution_count": 33,
   "id": "4ee7766b",
   "metadata": {},
   "outputs": [],
   "source": [
    "import imutils\n",
    "image=cv2.imread('input.jpg')\n",
    "cv2.imshow('Original',image)\n",
    "          \n",
    "flipped=cv2.flip(image,1)\n",
    "cv2.imshow('Horizontal Flipped',flipped)\n",
    "          \n",
    "flipped=cv2.flip(image,0)\n",
    "cv2.imshow('Vertical Flipped',flipped)\n",
    "\n",
    "flipped=cv2.flip(image,-1)\n",
    "cv2.imshow('Bot Flipped',flipped)\n",
    "\n",
    "cv2.waitKey()\n",
    "cv2.destroyAllWindows()\n",
    "# Resimleri ters çevirme vs işlemlerini yapıyoruz"
   ]
  },
  {
   "cell_type": "code",
   "execution_count": 34,
   "id": "75fe10d4",
   "metadata": {},
   "outputs": [],
   "source": [
    "cap=cv2.VideoCapture(0)\n",
    "while True:\n",
    "    ret,frame=cap.read()\n",
    "    if ret:\n",
    "        cv2.imshow('Bendeniz',frame)\n",
    "    else:\n",
    "        break\n",
    "    key=cv2.waitKey(1)\n",
    "    if key==ord('q'):\n",
    "        break\n",
    "cv2.destroyAllWindows()\n",
    "# Kendi görüntümüzü alma işlemi"
   ]
  },
  {
   "cell_type": "code",
   "execution_count": 35,
   "id": "86f1989d",
   "metadata": {},
   "outputs": [],
   "source": [
    "cap=cv2.VideoCapture('cars.mp4')\n",
    "while True:\n",
    "    ret,frame=cap.read()\n",
    "    if ret:\n",
    "        cv2.imshow('Arabalar',frame)\n",
    "    else:\n",
    "        break\n",
    "    key=cv2.waitKey(1)\n",
    "    if key==ord('q'):\n",
    "        break\n",
    "cv2.destroyAllWindows()\n",
    "# Burda görüntüyü cars.mp4 den alıyor"
   ]
  },
  {
   "cell_type": "code",
   "execution_count": 36,
   "id": "4cdffa70",
   "metadata": {},
   "outputs": [
    {
     "data": {
      "text/plain": [
       "True"
      ]
     },
     "execution_count": 36,
     "metadata": {},
     "output_type": "execute_result"
    }
   ],
   "source": [
    "selfie=cv2.VideoCapture(0).read()[1]  # 1. karede foto çeker\n",
    "cv2.imwrite('ben.jpg',selfie)\n",
    "# Otomatik resim çekebiliyor"
   ]
  },
  {
   "cell_type": "code",
   "execution_count": 37,
   "id": "75da3fce",
   "metadata": {},
   "outputs": [],
   "source": [
    "cap=cv2.VideoCapture(0)\n",
    "ret1,frame1=cap.read()\n",
    "ret2,frame2=cap.read()\n",
    "\n",
    "while True:\n",
    "    frame1sb=cv2.cvtColor(frame1,cv2.COLOR_BGR2GRAY)\n",
    "    frame2sb=cv2.cvtColor(frame2,cv2.COLOR_BGR2GRAY)\n",
    "\n",
    "    diff=cv2.absdiff(frame1sb,frame2sb)\n",
    "    cv2.imshow(\"Motion\",diff)\n",
    "    frame1 = frame2\n",
    "    ret,frame2 = cap.read()\n",
    "    if not ret:\n",
    "        cap.release()\n",
    "        break\n",
    "    key = cv2.waitKey(10)\n",
    "    if key == ord(\"q\"):\n",
    "        cap.release()\n",
    "        break\n",
    "cv2.destroyAllWindows()\n",
    "#Hareketleri yakalıyoruz"
   ]
  },
  {
   "cell_type": "code",
   "execution_count": 38,
   "id": "7cd8e6fc",
   "metadata": {},
   "outputs": [],
   "source": [
    "cap=cv2.VideoCapture('airplanes.mp4')\n",
    "ret1,frame1=cap.read()\n",
    "ret2,frame2=cap.read()\n",
    "\n",
    "while True:\n",
    "    frame1sb=cv2.cvtColor(frame1,cv2.COLOR_BGR2GRAY)\n",
    "    frame2sb=cv2.cvtColor(frame2,cv2.COLOR_BGR2GRAY)\n",
    "\n",
    "    diff=cv2.absdiff(frame1sb,frame2sb)\n",
    "    cv2.imshow(\"Motion\",diff)\n",
    "    frame1 = frame2\n",
    "    ret,frame2 = cap.read()\n",
    "    if not ret:\n",
    "        cap.release()\n",
    "        break\n",
    "    key = cv2.waitKey(10)\n",
    "    if key == ord(\"q\"):\n",
    "        cap.release()\n",
    "        break\n",
    "cv2.destroyAllWindows()\n",
    "# Uçak geçerken hareketi algılıyor"
   ]
  },
  {
   "cell_type": "code",
   "execution_count": 39,
   "id": "b33db11d",
   "metadata": {},
   "outputs": [],
   "source": [
    "cap = cv2.VideoCapture(\"airplanes.mp4\")\n",
    "\n",
    "ret1,frame1 = cap.read()\n",
    "ret2,frame2 = cap.read()\n",
    "\n",
    "while True:\n",
    "    frame1_gray = cv2.cvtColor(frame1,cv2.COLOR_BGR2GRAY)\n",
    "    frame2_gray = cv2.cvtColor(frame2,cv2.COLOR_BGR2GRAY)\n",
    "    frame1_blur = cv2.GaussianBlur(frame1_gray,(21,21),0)\n",
    "    frame2_blur = cv2.GaussianBlur(frame2_gray,(21,21),0)\n",
    "\n",
    "    diff = cv2.absdiff(frame1_blur,frame2_blur)\n",
    "\n",
    "    thresh = cv2.threshold(diff,20,255,cv2.THRESH_BINARY)[1]\n",
    "    final = cv2.dilate(thresh,None,iterations=2)\n",
    "\n",
    "    masked = cv2.bitwise_and(frame1,frame1,mask=thresh)\n",
    "    white_pixels = np.sum(thresh) /255\n",
    "    rows,cols = thresh.shape\n",
    "    total= rows*cols\n",
    "    if white_pixels > 0.01*total:\n",
    "        font = cv2.FONT_HERSHEY_SIMPLEX\n",
    "        cv2.putText(frame1,\"Movement Detected - Hareket Var\",(10,50),font,1,(0,0,255),2,cv2.LINE_AA)\n",
    "    cv2.imshow(\"Motion\",frame1)\n",
    "    frame1=frame2\n",
    "    ret,frame2 = cap.read()\n",
    "    if not ret:\n",
    "        break\n",
    "    key = cv2.waitKey(10)\n",
    "    if key == 27 or key == ord(\"q\"):\n",
    "        break\n",
    "cv2.destroyAllWindows()\n",
    "# Kamerada hareket algılandı uyarısı verdiriyor Yangın için kullanılabilir"
   ]
  },
  {
   "cell_type": "code",
   "execution_count": 40,
   "id": "692bd0f1",
   "metadata": {},
   "outputs": [
    {
     "name": "stdout",
     "output_type": "stream",
     "text": [
      "Number of Contours found = 4\n"
     ]
    }
   ],
   "source": [
    "image = cv2.imread(\"bunchofshapes.jpg\")\n",
    "cv2.imshow(\"Input Image\",image)\n",
    "cv2.waitKey(0)\n",
    "gray = cv2.cvtColor(image,cv2.COLOR_BGR2GRAY)\n",
    "edged = cv2.Canny(gray,30,200)\n",
    "cv2.imshow(\"Canny Edges\",edged)\n",
    "cv2.waitKey(0)\n",
    "contours,hierarchy = cv2.findContours(edged,cv2.RETR_EXTERNAL,cv2.CHAIN_APPROX_NONE)\n",
    "cv2.imshow(\"Canny Edges After Contouring\",edged)\n",
    "cv2.waitKey(0)\n",
    "print(\"Number of Contours found = \" + str(len(contours)))\n",
    "cv2.drawContours(image,contours,-1,(0,255,0),thickness=2)\n",
    "cv2.imshow(\"Contours\",image)\n",
    "cv2.waitKey(0)\n",
    "cv2.destroyAllWindows()\n",
    "# Shapei aldı tanıdı ve bordorlarını çizdi ve şekilleri saydı"
   ]
  },
  {
   "cell_type": "code",
   "execution_count": 41,
   "id": "be25c91d",
   "metadata": {},
   "outputs": [
    {
     "name": "stderr",
     "output_type": "stream",
     "text": [
      "<>:10: SyntaxWarning: \"is\" with a literal. Did you mean \"==\"?\n",
      "<>:10: SyntaxWarning: \"is\" with a literal. Did you mean \"==\"?\n",
      "C:\\Users\\ibrahim\\AppData\\Local\\Temp\\ipykernel_123228\\2245976058.py:10: SyntaxWarning: \"is\" with a literal. Did you mean \"==\"?\n",
      "  if faces is ():\n"
     ]
    }
   ],
   "source": [
    "# classifier (XML file format) is stored\n",
    "face_classifier = cv2.CascadeClassifier('haarcascade_frontalface_default.xml')\n",
    "# Load our image then convert it to grayscale\n",
    "image = cv2.imread('myself.jpg')\n",
    "gray = cv2.cvtColor(image, cv2.COLOR_BGR2GRAY)\n",
    "# Our classifier returns the ROI of the detected face as a tuple\n",
    "# It stores the top left coordinate and the bottom right coordiantes\n",
    "faces = face_classifier.detectMultiScale(gray, 1.3, 5)   # Bunla yüz tanıyor\n",
    "# When no faces detected, face_classifier returns and empty tuple\n",
    "if faces is ():\n",
    "    print(\"No faces found\")\n",
    "# We iterate through our faces array and draw a rectangle\n",
    "# over each face in faces\n",
    "for (x,y,w,h) in faces:\n",
    "    cv2.rectangle(image, (x,y), (x+w,y+h), (127,0,255), 2)\n",
    "    cv2.imshow('Face Detection', image)\n",
    "    cv2.waitKey(0)\n",
    "cv2.destroyAllWindows()\n",
    "# Yüz tanıma sistemi"
   ]
  },
  {
   "cell_type": "code",
   "execution_count": 42,
   "id": "eabc82c2",
   "metadata": {},
   "outputs": [
    {
     "name": "stderr",
     "output_type": "stream",
     "text": [
      "<>:7: SyntaxWarning: \"is\" with a literal. Did you mean \"==\"?\n",
      "<>:7: SyntaxWarning: \"is\" with a literal. Did you mean \"==\"?\n",
      "C:\\Users\\ibrahim\\AppData\\Local\\Temp\\ipykernel_123228\\1263398177.py:7: SyntaxWarning: \"is\" with a literal. Did you mean \"==\"?\n",
      "  if faces is ():\n"
     ]
    }
   ],
   "source": [
    "face_classifier = cv2.CascadeClassifier('haarcascade_frontalface_default.xml')\n",
    "eye_classifier = cv2.CascadeClassifier('haarcascade_eye.xml')\n",
    "img = cv2.imread('myself.jpg')\n",
    "gray = cv2.cvtColor(img, cv2.COLOR_BGR2GRAY)\n",
    "faces = face_classifier.detectMultiScale(gray, 1.3, 5)\n",
    "# When no faces detected, face_classifier returns and empty tuple\n",
    "if faces is ():\n",
    "    print(\"No Face Found\")\n",
    "for (x,y,w,h) in faces:\n",
    "    cv2.rectangle(img,(x,y),(x+w,y+h),(127,0,255),2)\n",
    "    cv2.imshow('img',img)\n",
    "    cv2.waitKey(0)\n",
    "    roi_gray = gray[y:y+h, x:x+w]\n",
    "    roi_color = img[y:y+h, x:x+w]\n",
    "    eyes = eye_classifier.detectMultiScale(roi_gray)\n",
    "    for (ex,ey,ew,eh) in eyes:\n",
    "        cv2.rectangle(roi_color,(ex,ey),(ex+ew,ey+eh),(255,255,0),2)\n",
    "        cv2.imshow('img',img)\n",
    "        cv2.waitKey(0)\n",
    "cv2.destroyAllWindows()\n",
    "#Yüzleri ve gözleri tanıyor"
   ]
  },
  {
   "cell_type": "code",
   "execution_count": 43,
   "id": "f84661cc",
   "metadata": {},
   "outputs": [
    {
     "name": "stderr",
     "output_type": "stream",
     "text": [
      "<>:10: SyntaxWarning: \"is\" with a literal. Did you mean \"==\"?\n",
      "<>:10: SyntaxWarning: \"is\" with a literal. Did you mean \"==\"?\n",
      "C:\\Users\\ibrahim\\AppData\\Local\\Temp\\ipykernel_123228\\3574420154.py:10: SyntaxWarning: \"is\" with a literal. Did you mean \"==\"?\n",
      "  if faces is ():\n"
     ]
    }
   ],
   "source": [
    "import cv2\n",
    "import numpy as np\n",
    "from time import sleep\n",
    "face_classifier = cv2.CascadeClassifier('haarcascade_frontalface_default.xml')\n",
    "eye_classifier = cv2.CascadeClassifier('haarcascade_eye.xml')\n",
    "def face_detector(img, size=0.5):\n",
    "    # Convert image to grayscale\n",
    "    gray = cv2.cvtColor(img,cv2.COLOR_BGR2GRAY)\n",
    "    faces = face_classifier.detectMultiScale(gray, 1.3, 5)\n",
    "    if faces is ():\n",
    "        return img\n",
    "    for (x,y,w,h) in faces:\n",
    "        x = x - 50\n",
    "        w = w + 50\n",
    "        y = y - 50\n",
    "        h = h + 50\n",
    "        cv2.rectangle(img,(x,y),(x+w,y+h),(255,0,0),2)\n",
    "        roi_gray = gray[y:y+h, x:x+w]\n",
    "        roi_color = img[y:y+h, x:x+w]\n",
    "        eyes = eye_classifier.detectMultiScale(roi_gray)\n",
    "        sleep(.05)\n",
    "        for (ex,ey,ew,eh) in eyes:\n",
    "            cv2.rectangle(roi_color,(ex,ey),(ex+ew,ey+eh),(0,0,255),2)\n",
    "    img = cv2.flip(img,1)\n",
    "    return img\n",
    "cap = cv2.VideoCapture(0)\n",
    "while True:\n",
    "    ret, frame = cap.read()\n",
    "    cv2.imshow('Our Face Extractor', face_detector(frame))\n",
    "    if cv2.waitKey(1) == 13: #13 is the Enter Key\n",
    "        break\n",
    "cap.release()\n",
    "cv2.destroyAllWindows()\n",
    "# Bu kodla video içinde yüz ve göz tanıma işlemini yapıyoruz"
   ]
  },
  {
   "cell_type": "code",
   "execution_count": 44,
   "id": "6b7b8d0c",
   "metadata": {},
   "outputs": [
    {
     "name": "stdout",
     "output_type": "stream",
     "text": [
      "Collecting opencv-contrib-python\n",
      "  Using cached opencv_contrib_python-4.12.0.88-cp37-abi3-win_amd64.whl (45.3 MB)\n",
      "Requirement already satisfied: numpy<2.3.0,>=2 in c:\\users\\ibrahim\\anaconda3\\lib\\site-packages (from opencv-contrib-python) (2.0.2)\n",
      "Installing collected packages: opencv-contrib-python\n",
      "Note: you may need to restart the kernel to use updated packages.\n"
     ]
    },
    {
     "name": "stderr",
     "output_type": "stream",
     "text": [
      "WARNING: Ignoring invalid distribution -pencv-python (c:\\users\\ibrahim\\anaconda3\\lib\\site-packages)\n",
      "WARNING: Ignoring invalid distribution -atplotlib (c:\\users\\ibrahim\\anaconda3\\lib\\site-packages)\n",
      "WARNING: Ignoring invalid distribution -pencv-python (c:\\users\\ibrahim\\anaconda3\\lib\\site-packages)\n",
      "WARNING: Ignoring invalid distribution -atplotlib (c:\\users\\ibrahim\\anaconda3\\lib\\site-packages)\n",
      "WARNING: Ignoring invalid distribution -pencv-python (c:\\users\\ibrahim\\anaconda3\\lib\\site-packages)\n",
      "WARNING: Ignoring invalid distribution -atplotlib (c:\\users\\ibrahim\\anaconda3\\lib\\site-packages)\n",
      "ERROR: Could not install packages due to an OSError: [WinError 5] Erişim engellendi: 'C:\\\\Users\\\\ibrahim\\\\anaconda3\\\\Lib\\\\site-packages\\\\cv2\\\\cv2.pyd'\n",
      "Consider using the `--user` option or check the permissions.\n",
      "\n",
      "WARNING: Ignoring invalid distribution -pencv-python (c:\\users\\ibrahim\\anaconda3\\lib\\site-packages)\n",
      "WARNING: Ignoring invalid distribution -atplotlib (c:\\users\\ibrahim\\anaconda3\\lib\\site-packages)\n",
      "WARNING: Ignoring invalid distribution -pencv-python (c:\\users\\ibrahim\\anaconda3\\lib\\site-packages)\n",
      "WARNING: Ignoring invalid distribution -atplotlib (c:\\users\\ibrahim\\anaconda3\\lib\\site-packages)\n",
      "WARNING: Ignoring invalid distribution -pencv-python (c:\\users\\ibrahim\\anaconda3\\lib\\site-packages)\n",
      "WARNING: Ignoring invalid distribution -atplotlib (c:\\users\\ibrahim\\anaconda3\\lib\\site-packages)\n"
     ]
    }
   ],
   "source": [
    "pip install opencv-contrib-python"
   ]
  },
  {
   "cell_type": "code",
   "execution_count": 45,
   "id": "e0f7ae89",
   "metadata": {
    "collapsed": true
   },
   "outputs": [
    {
     "name": "stderr",
     "output_type": "stream",
     "text": [
      "<>:5: SyntaxWarning: \"is\" with a literal. Did you mean \"==\"?\n",
      "<>:5: SyntaxWarning: \"is\" with a literal. Did you mean \"==\"?\n",
      "C:\\Users\\ibrahim\\AppData\\Local\\Temp\\ipykernel_123228\\4146252575.py:5: SyntaxWarning: \"is\" with a literal. Did you mean \"==\"?\n",
      "  if faces is ():\n"
     ]
    },
    {
     "name": "stdout",
     "output_type": "stream",
     "text": [
      "Face not found\n",
      "Face not found\n",
      "Face not found\n",
      "Face not found\n",
      "Face not found\n",
      "Face not found\n",
      "Face not found\n",
      "Face not found\n",
      "Face not found\n",
      "Face not found\n",
      "Face not found\n",
      "Face not found\n",
      "Face not found\n",
      "Face not found\n",
      "Face not found\n",
      "Face not found\n",
      "Face not found\n",
      "Face not found\n",
      "Face not found\n",
      "Face not found\n",
      "Face not found\n",
      "Face not found\n",
      "Face not found\n",
      "Face not found\n",
      "Face not found\n",
      "Face not found\n",
      "Face not found\n",
      "Face not found\n",
      "Face not found\n",
      "Face not found\n",
      "Face not found\n",
      "Face not found\n",
      "Face not found\n",
      "Face not found\n",
      "Face not found\n",
      "Face not found\n",
      "Face not found\n",
      "Face not found\n",
      "Face not found\n",
      "Face not found\n",
      "Face not found\n",
      "Face not found\n",
      "Face not found\n",
      "Face not found\n",
      "Face not found\n",
      "Face not found\n",
      "Face not found\n",
      "Face not found\n",
      "Face not found\n",
      "Face not found\n",
      "Face not found\n",
      "Face not found\n",
      "Face not found\n",
      "Face not found\n",
      "Face not found\n",
      "Face not found\n",
      "Face not found\n",
      "Face not found\n",
      "Face not found\n",
      "Face not found\n",
      "Face not found\n",
      "Face not found\n",
      "Face not found\n",
      "Face not found\n",
      "Face not found\n",
      "Face not found\n",
      "Face not found\n",
      "Face not found\n",
      "Face not found\n",
      "Face not found\n",
      "Face not found\n",
      "Face not found\n",
      "Face not found\n",
      "Face not found\n",
      "Face not found\n",
      "Face not found\n",
      "Face not found\n",
      "Face not found\n",
      "Face not found\n",
      "Face not found\n",
      "Face not found\n",
      "Face not found\n",
      "Face not found\n",
      "Face not found\n",
      "Face not found\n",
      "Face not found\n",
      "Face not found\n",
      "Face not found\n",
      "Face not found\n",
      "Face not found\n",
      "Face not found\n",
      "Face not found\n",
      "Face not found\n",
      "Face not found\n",
      "Face not found\n",
      "Face not found\n",
      "Face not found\n",
      "Face not found\n",
      "Face not found\n",
      "Face not found\n",
      "Face not found\n",
      "Face not found\n",
      "Face not found\n",
      "Face not found\n",
      "Face not found\n",
      "Face not found\n",
      "Face not found\n",
      "Face not found\n",
      "Face not found\n",
      "Face not found\n",
      "Face not found\n",
      "Face not found\n",
      "Face not found\n",
      "Face not found\n",
      "Face not found\n",
      "Face not found\n",
      "Face not found\n",
      "Face not found\n",
      "Face not found\n",
      "Face not found\n",
      "Face not found\n",
      "Face not found\n",
      "Face not found\n",
      "Face not found\n",
      "Face not found\n",
      "Face not found\n",
      "Face not found\n",
      "Face not found\n",
      "Face not found\n",
      "Face not found\n",
      "Face not found\n",
      "Face not found\n",
      "Face not found\n",
      "Face not found\n",
      "Face not found\n",
      "Face not found\n",
      "Face not found\n",
      "Face not found\n",
      "Face not found\n",
      "Face not found\n",
      "Face not found\n",
      "Face not found\n",
      "Face not found\n",
      "Face not found\n",
      "Face not found\n",
      "Face not found\n",
      "Face not found\n",
      "Face not found\n",
      "Face not found\n",
      "Face not found\n",
      "Face not found\n",
      "Face not found\n",
      "Face not found\n",
      "Face not found\n",
      "Face not found\n",
      "Face not found\n",
      "Face not found\n",
      "Face not found\n",
      "Face not found\n",
      "Face not found\n",
      "Face not found\n",
      "Face not found\n",
      "Face not found\n",
      "Face not found\n",
      "Face not found\n",
      "Face not found\n",
      "Face not found\n",
      "Face not found\n",
      "Face not found\n",
      "Face not found\n",
      "Face not found\n",
      "Face not found\n",
      "Face not found\n",
      "Face not found\n",
      "Face not found\n",
      "Face not found\n",
      "Face not found\n",
      "Face not found\n",
      "Face not found\n",
      "Face not found\n",
      "Face not found\n",
      "Face not found\n",
      "Face not found\n",
      "Face not found\n",
      "Face not found\n",
      "Face not found\n",
      "Collecting Samples Complete\n"
     ]
    }
   ],
   "source": [
    "face_classifier = cv2.CascadeClassifier(\"haarcascade_frontalface_default.xml\")\n",
    "def face_extractor(img):\n",
    "    gray = cv2.cvtColor(img,cv2.COLOR_BGR2GRAY)\n",
    "    faces = face_classifier.detectMultiScale(gray,1.3,5)\n",
    "    if faces is ():\n",
    "        return None\n",
    "    for (x,y,w,h) in faces:\n",
    "        cropped_face = img[y:y+h,x:x+w]\n",
    "    return cropped_face\n",
    "cap = cv2.VideoCapture(0)\n",
    "count = 0\n",
    "while True:\n",
    "    ret,frame = cap.read()\n",
    "    if face_extractor(frame) is not None:\n",
    "        count += 1\n",
    "        face = cv2.resize(face_extractor(frame),(200,200))\n",
    "        face = cv2.cvtColor(face,cv2.COLOR_BGR2GRAY)\n",
    "        file_name_path = './faces/user/' + str(count) +'.jpg'\n",
    "        cv2.imwrite(file_name_path,face)\n",
    "        cv2.putText(face,str(count),(50,50),cv2.FONT_HERSHEY_COMPLEX,1,(0,255,0),2)\n",
    "        cv2.imshow(\"Face Cropper\",face)\n",
    "    else:\n",
    "        print(\"Face not found\")\n",
    "        pass\n",
    "    if cv2.waitKey(1) == 13 or count ==100:\n",
    "        break\n",
    "cap.release()\n",
    "cv2.destroyAllWindows()\n",
    "print('Collecting Samples Complete')\n",
    "#100 tane resim çekti"
   ]
  },
  {
   "cell_type": "code",
   "execution_count": null,
   "id": "e6753b7d",
   "metadata": {},
   "outputs": [],
   "source": [
    "import cv2\n",
    "import numpy as np\n",
    "from os import listdir\n",
    "from os.path import isfile,join\n",
    "data_path = './faces/user/'\n",
    "onlyfiles =[f for f in listdir(data_path) if isfile(join(data_path,f))]\n",
    "Training_Data,Labels = [],[]\n",
    "for i,files in enumerate(onlyfiles):\n",
    "    image_path = data_path + onlyfiles[i]\n",
    "    images = cv2.imread(image_path,cv2.IMREAD_GRAYSCALE)\n",
    "    Training_Data.append(np.asarray(images,dtype = np.uint8))\n",
    "    Labels.append(i)\n",
    "Labels = np.asarray(Labels,dtype = np.int32)\n",
    "model = cv2.face.LBPHFaceRecognizer_create()\n",
    "model.train(np.asarray(Training_Data),np.asarray(Labels))\n",
    "print(\"Model Trained Succesfully\")"
   ]
  },
  {
   "cell_type": "code",
   "execution_count": null,
   "id": "f828631e",
   "metadata": {},
   "outputs": [],
   "source": []
  },
  {
   "cell_type": "code",
   "execution_count": null,
   "id": "348ff7f7",
   "metadata": {},
   "outputs": [],
   "source": []
  }
 ],
 "metadata": {
  "kernelspec": {
   "display_name": "Python 3 (ipykernel)",
   "language": "python",
   "name": "python3"
  },
  "language_info": {
   "codemirror_mode": {
    "name": "ipython",
    "version": 3
   },
   "file_extension": ".py",
   "mimetype": "text/x-python",
   "name": "python",
   "nbconvert_exporter": "python",
   "pygments_lexer": "ipython3",
   "version": "3.9.13"
  }
 },
 "nbformat": 4,
 "nbformat_minor": 5
}
