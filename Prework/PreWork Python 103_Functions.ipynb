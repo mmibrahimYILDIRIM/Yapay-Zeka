{
 "cells": [
  {
   "cell_type": "markdown",
   "metadata": {},
   "source": [
    "# PreWork<br> Python 103: Functions"
   ]
  },
  {
   "cell_type": "markdown",
   "metadata": {},
   "source": [
    " PreWork, Python 103, Functions"
   ]
  },
  {
   "cell_type": "markdown",
   "metadata": {},
   "source": [
    "# <font color=\"blue\">Table of Contents</font>\n",
    "\n",
    "## Introduction to Functions in Python\n",
    "\n",
    "## User-Defined Functions\n",
    "* Define a Function\n",
    "* Call a Python function\n",
    "* Function parameters\n",
    "* Return statement\n",
    "* Scope and Lifetime of a Variable in Python\n",
    "\n",
    "## Lambda Expressions\n",
    "* Exercises\n",
    "\n",
    "## Built-in Functions\n",
    "* Filter\n",
    "* Map\n",
    "* Reduce"
   ]
  },
  {
   "cell_type": "markdown",
   "metadata": {},
   "source": [
    "# <font color=\"red\">I. Introduction to Functions in Python </font>"
   ]
  },
  {
   "cell_type": "markdown",
   "metadata": {},
   "source": [
    "**Python: Crash Course, Chapter 8**\n",
    "\n",
    "Functions are reusable blocks of statements with a name, allowing you to run that block anywhere within your program any number of times.\n",
    "\n",
    "When called, those statements are executed. So we don’t have to write the code again and again for each type of data that we want to apply it to. This is called code re-usability."
   ]
  },
  {
   "cell_type": "markdown",
   "metadata": {},
   "source": [
    "# <font color=\"red\">II. User-Defined Functions </font>"
   ]
  },
  {
   "cell_type": "markdown",
   "metadata": {},
   "source": [
    "## 2.1 Define a Function\n",
    "To define your own Python function, you use the ‘def’ keyword before its name. And its name is to be followed by parentheses, before a colon(:).\n",
    "\n",
    "__`def function_name(arguments):\n",
    "    block of code`__\n",
    "    \n",
    "The contents inside the body of the function must be equally indented. **Code for a function should be indented with 4 spaces.** <br>\n",
    "\n",
    "Code that isn't indented will not be run as part of that function.\n",
    "\n",
    "* __Rules for naming a Python function:__\n",
    "    * It can begin with either of the following: A-Z, a-z, and underscore(_).\n",
    "    * The rest of it can contain either of the following: A-Z, a-z, digits(0-9), and underscore(_).\n",
    "    * A reserved keyword may not be chosen as an identifier."
   ]
  },
  {
   "cell_type": "code",
   "execution_count": 2,
   "metadata": {},
   "outputs": [],
   "source": [
    "def hello():\n",
    "    print('Hello Data Scientist!')\n",
    "    "
   ]
  },
  {
   "cell_type": "markdown",
   "metadata": {},
   "source": [
    "## 2.2 Call a Python Function\n",
    "To use a function you need to call it. To call a Python function at a place in your code, you simply need to name it, and pass arguments, if any.\n",
    "\n",
    "The syntax is: \n",
    "\n",
    "__`function_name(arguments)`__"
   ]
  },
  {
   "cell_type": "code",
   "execution_count": 3,
   "metadata": {},
   "outputs": [
    {
     "name": "stdout",
     "output_type": "stream",
     "text": [
      "Hello Data Scientist!\n"
     ]
    }
   ],
   "source": [
    "hello()"
   ]
  },
  {
   "cell_type": "markdown",
   "metadata": {},
   "source": [
    "## 2.3 Function Parameters / Arguments\n",
    "Sometimes, you may want a function to operate on some variables, and produce a result. Such a function may take any number of parameters. \n",
    "\n",
    "We can also make default values for function arguments, in case you want a parameter to be optional. <br>\n",
    "\n",
    "For example: \n",
    "\n",
    "__`def my_print(to_print = 'Hello data scientist'):\n",
    "    print(to_print)`__\n",
    "    \n",
    "Now if we call the function without an argument it will automatically print \"Hello data scientist\". Or we can pass in a parameter to override the default. \n",
    "\n",
    "__`my_print()`__ \n",
    "This will print 'Hello data scientist'\n",
    "\n",
    "__`my_print('Hello again!')`__ \n",
    "This will print 'Hello again!"
   ]
  },
  {
   "cell_type": "code",
   "execution_count": 4,
   "metadata": {},
   "outputs": [
    {
     "name": "stdout",
     "output_type": "stream",
     "text": [
      "Our new message\n"
     ]
    }
   ],
   "source": [
    "def my_print(to_print):\n",
    "    print(to_print)\n",
    "    \n",
    "message = 'Our new message'\n",
    "my_print(message)"
   ]
  },
  {
   "cell_type": "code",
   "execution_count": 5,
   "metadata": {},
   "outputs": [
    {
     "name": "stdout",
     "output_type": "stream",
     "text": [
      "Hello data scientis\n",
      "Hello again!\n"
     ]
    }
   ],
   "source": [
    "def my_print(to_print = 'Hello data scientis'):\n",
    "    print(to_print)\n",
    "    \n",
    "my_print()\n",
    "my_print('Hello again!')"
   ]
  },
  {
   "cell_type": "markdown",
   "metadata": {},
   "source": [
    "## 2.4 Return Statement\n",
    "A Python function may optionally return a value. This value can be a result that it produced on its execution. Or it can be something you specify- an expression or a value.\n",
    "\n",
    "As soon as a return statement is reached in a function, the function stops executing. Then, the next statement after the function call is executed."
   ]
  },
  {
   "cell_type": "code",
   "execution_count": 6,
   "metadata": {},
   "outputs": [
    {
     "name": "stdout",
     "output_type": "stream",
     "text": [
      "9\n"
     ]
    }
   ],
   "source": [
    "def sum_it(a, b):\n",
    "    return a + b\n",
    "the_answer = sum_it(4, 5)\n",
    "print(the_answer)"
   ]
  },
  {
   "cell_type": "markdown",
   "metadata": {},
   "source": [
    "## 2.5 Scope and Lifetime of a Variable in Python\n",
    "A variable isn’t visible everywhere and alive every time. We study this in functions because the scope and lifetime for a variable depend on whether it is inside a function.\n",
    "\n",
    "* A variable’s scope tells us where in the program it is visible. A variable may have local or global scope.\n",
    "* A variable’s lifetime is the period of time for which it resides in the memory."
   ]
  },
  {
   "cell_type": "code",
   "execution_count": 1,
   "metadata": {},
   "outputs": [
    {
     "name": "stdout",
     "output_type": "stream",
     "text": [
      "I'm from the outside!\n",
      "I'm from the inside!\n",
      "I'm from the outside!\n",
      "I'm from the inside!\n"
     ]
    }
   ],
   "source": [
    " \n",
    "message1 = \"I'm from the outside!\"\n",
    "\n",
    "def print_message():\n",
    "    global message2     \n",
    "    message2 = \"I'm from the inside!\"\n",
    "    print(message1)\n",
    "    print(message2)\n",
    "    \n",
    "print_message()\n",
    "print(message1)\n",
    "print(message2)"
   ]
  },
  {
   "cell_type": "markdown",
   "metadata": {},
   "source": [
    "As we can see, there is an error when we run the above cell.<br>\n",
    "\n",
    "This is because the variable message2 was local to the function, so we couldn't access it when we tried to print it out of the function. <br>\n",
    "\n",
    "When working with functions, loops, and if/else statements you need to keep this scope in mind. \n",
    "\n",
    "We can give a variable global scope so that it can be accessed anywhere in the program using the syntax: \n",
    "\n",
    "__`\n",
    "message1 = \"I'm from the outside!\"\n",
    "def print_message():\n",
    "    global message2\n",
    "    message2 = \"I'm from the inside!\"\n",
    "    print(message1)\n",
    "    print(message2)`__\n",
    "    \n",
    "__`print_message()\n",
    "print(message1)\n",
    "print(message2)`__\n",
    "\n",
    "Now when we run these print statements we don't get an error. "
   ]
  },
  {
   "cell_type": "code",
   "execution_count": 11,
   "metadata": {},
   "outputs": [
    {
     "name": "stdout",
     "output_type": "stream",
     "text": [
      "I'm from the outside!\n",
      "I'm from the inside!\n",
      "I'm from the outside!\n",
      "I'm from the inside!\n"
     ]
    }
   ],
   "source": [
    "message1 = \"I'm from the outside!\"\n",
    "def print_message():\n",
    "    global message2\n",
    "    message2 = \"I'm from the inside!\"\n",
    "    print(message1)\n",
    "    print(message2)\n",
    "\n",
    "print_message()\n",
    "print(message1)\n",
    "print(message2)"
   ]
  },
  {
   "cell_type": "markdown",
   "metadata": {},
   "source": [
    "__Note__: Using global statements is not considered best practice because it's harder to find where a variable is defined. <br>\n",
    "This example is just to help you learn about scope."
   ]
  },
  {
   "cell_type": "markdown",
   "metadata": {},
   "source": [
    "## Let's practice with functions!\n",
    "### <font color=\"green\"> Exercise 1: Reverse it! </font>\n",
    "Write a function that asks for a string with multiple words. In other words, **print the same string, but with the words in backwards order.** \n",
    "\n",
    "For example, if the string is \"I am a data scientist\" should print \"scientist data a am I\".\n",
    "\n",
    "You can split a string based on a given set of characters. For example: \n",
    "\n",
    "__`test_string = 'I am a data scientist'\n",
    "result = test_string.split('a')`__\n",
    "\n",
    "Would output: __`['I ', 'm ', ' d', 't', ' scientist']`__\n",
    "\n",
    "You can split on any character you like (including space). \n",
    "\n",
    "You can also join a list of strings together: \n",
    "__`'a'.join(result)`__ \n",
    "would output: \"I am a data scientist\""
   ]
  },
  {
   "cell_type": "markdown",
   "metadata": {},
   "source": [
    "Before you dive in, write a pseudo-code for your code."
   ]
  },
  {
   "cell_type": "code",
   "execution_count": 12,
   "metadata": {},
   "outputs": [],
   "source": [
    "# 2 tane dizi tanımlanır\n",
    "# parametre olarak 2 dizi alan bir fonksiyon yazılır.\n",
    "# parametre olarak alınan bu iki dizi birleştirilir ve ekrana basılır."
   ]
  },
  {
   "cell_type": "markdown",
   "metadata": {},
   "source": [
    "Follow your pseudo-code!"
   ]
  },
  {
   "cell_type": "code",
   "execution_count": 14,
   "metadata": {},
   "outputs": [
    {
     "name": "stdout",
     "output_type": "stream",
     "text": [
      " I am a data scientist  Because i fix the data \n"
     ]
    }
   ],
   "source": [
    "array1= \" I am a data scientist \"\n",
    "array2= \" Because i fix the data \"\n",
    "\n",
    "def append_func (a, b):\n",
    "    return print(a+b)\n",
    "\n",
    "append_func(array1 , array2)"
   ]
  },
  {
   "cell_type": "markdown",
   "metadata": {},
   "source": [
    "### <font color=\"green\"> Exercise 2: Determining Divisors </font>\n",
    "Create a function that asks the user for a number and then prints out a list of all the divisors of that number. \n",
    "\n",
    "A divisor is a number that divides evenly into another number. <br>\n",
    "\n",
    "For example, 3 is a divisor of 9 because 9 / 3 has no remainder. "
   ]
  },
  {
   "cell_type": "markdown",
   "metadata": {},
   "source": [
    "Before you dive in, write a pseudo-code for your code."
   ]
  },
  {
   "cell_type": "code",
   "execution_count": 16,
   "metadata": {},
   "outputs": [
    {
     "data": {
      "text/plain": [
       "'\\nkullanıcıdan sayı alınır.\\nbir for dögüsüyle sayıya kadar olan tüm sayılar verilen sayıya bölünerek tek tek kontrol edilir.\\nkalanı 0 olan bölme işlemlerinden çıkan sayı dizide tutulur.\\nsonuç dödürülür.\\n\\n'"
      ]
     },
     "execution_count": 16,
     "metadata": {},
     "output_type": "execute_result"
    }
   ],
   "source": [
    "'''\n",
    "kullanıcıdan sayı alınır.\n",
    "bir for dögüsüyle sayıya kadar olan tüm sayılar verilen sayıya bölünerek tek tek kontrol edilir.\n",
    "kalanı 0 olan bölme işlemlerinden çıkan sayı dizide tutulur.\n",
    "sonuç dödürülür.\n",
    "\n",
    "'''"
   ]
  },
  {
   "cell_type": "markdown",
   "metadata": {},
   "source": [
    "Follow your pseudo-code!"
   ]
  },
  {
   "cell_type": "code",
   "execution_count": 21,
   "metadata": {},
   "outputs": [
    {
     "name": "stdin",
     "output_type": "stream",
     "text": [
      " 9\n"
     ]
    },
    {
     "name": "stdout",
     "output_type": "stream",
     "text": [
      "['', 1, 3]\n"
     ]
    }
   ],
   "source": [
    "number = input()\n",
    "\n",
    "def func1(value):\n",
    "\n",
    "    array= [\"\"]\n",
    "    for i in range(1,value):\n",
    "        if value % i == 0 :\n",
    "            array.append(i)\n",
    "    return print(array)\n",
    "\n",
    "func1(int(number))"
   ]
  },
  {
   "cell_type": "markdown",
   "metadata": {},
   "source": [
    "### <font color=\"green\"> Exercise 3: Picking Primes </font>\n",
    "Ask the user for a number and determine whether the number is prime or not. \n",
    "\n",
    "(For those who have forgotten, a prime number is a number that has no divisors.)"
   ]
  },
  {
   "cell_type": "markdown",
   "metadata": {},
   "source": [
    "Before you dive in, write a pseudo-code for your code."
   ]
  },
  {
   "cell_type": "code",
   "execution_count": 22,
   "metadata": {},
   "outputs": [],
   "source": [
    "# adımlar yukarıdaki program ile aynı sadece son adımda bir kontrol gerekiyor.\n",
    "# eğer dizi boşa sayı asaldır."
   ]
  },
  {
   "cell_type": "markdown",
   "metadata": {},
   "source": [
    "Follow your pseudo-code!"
   ]
  },
  {
   "cell_type": "code",
   "execution_count": 26,
   "metadata": {},
   "outputs": [
    {
     "name": "stdin",
     "output_type": "stream",
     "text": [
      "Enter a number:  5\n"
     ]
    },
    {
     "name": "stdout",
     "output_type": "stream",
     "text": [
      "5 is a prime number.\n"
     ]
    }
   ],
   "source": [
    "number = input(\"Enter a number: \")\n",
    "\n",
    "def check_prime(value):\n",
    "    divisors = []\n",
    "\n",
    "    for i in range(1, value + 1):\n",
    "        if value % i == 0:\n",
    "            divisors.append(i)\n",
    "\n",
    "    if len(divisors) == 2:\n",
    "        print(f\"{value} is a prime number.\")\n",
    "    else:\n",
    "        print(f\"{value} is not a prime number. Divisors: {divisors}\")\n",
    "\n",
    "check_prime(int(number))"
   ]
  },
  {
   "cell_type": "markdown",
   "metadata": {},
   "source": [
    "### <font color=\"green\"> Exercise 4: Guessing Game </font>\n",
    "Generate a random integer from 1 to 9 (inclusive). <br>\n",
    "**Phase 1**: Ask the user to guess the number, and tell them whether their guess was too low, too high, or correct. <br>\n",
    "**Phase 2**: Keep the game going until the user gets the correct number. <br>\n",
    "**Bonus:** Keep track of how many guesses the user has taken, and when the game ends print this out. \n",
    "\n",
    "You'll need to use the random module for this question. See here for more info on random: [Python 3](https://docs.python.org/3/library/random.html)"
   ]
  },
  {
   "cell_type": "markdown",
   "metadata": {},
   "source": [
    "Before you dive in, write a pseudo-code for your code."
   ]
  },
  {
   "cell_type": "code",
   "execution_count": 29,
   "metadata": {},
   "outputs": [
    {
     "data": {
      "text/plain": [
       "'\\nkullanıcıdan bir sayı alınır.\\nrandom bir sayı oluşturulur.\\nkullanıcıdan alınan sayı ile oluşturulan sayı aynı mı diye bakılır.\\naynıysa döngü sonlandırılır.\\ndeğilse devam edilir.\\nkaç tahminde bulma sayısı da bu süreçte tutulur.\\n'"
      ]
     },
     "execution_count": 29,
     "metadata": {},
     "output_type": "execute_result"
    }
   ],
   "source": [
    "'''\n",
    "kullanıcıdan bir sayı alınır.\n",
    "random bir sayı oluşturulur.\n",
    "kullanıcıdan alınan sayı ile oluşturulan sayı aynı mı diye bakılır.\n",
    "aynıysa döngü sonlandırılır.\n",
    "değilse devam edilir.\n",
    "kaç tahminde bulma sayısı da bu süreçte tutulur.\n",
    "'''"
   ]
  },
  {
   "cell_type": "markdown",
   "metadata": {},
   "source": [
    "Follow your pseudo-code!"
   ]
  },
  {
   "cell_type": "code",
   "execution_count": 28,
   "metadata": {},
   "outputs": [
    {
     "name": "stdout",
     "output_type": "stream",
     "text": [
      "Guess the number between 1 and 9!\n"
     ]
    },
    {
     "name": "stdin",
     "output_type": "stream",
     "text": [
      "Enter your guess (or type 'exit' to quit):  6\n"
     ]
    },
    {
     "name": "stdout",
     "output_type": "stream",
     "text": [
      "Too high. Try again.\n"
     ]
    },
    {
     "name": "stdin",
     "output_type": "stream",
     "text": [
      "Enter your guess (or type 'exit' to quit):  7\n"
     ]
    },
    {
     "name": "stdout",
     "output_type": "stream",
     "text": [
      "Too high. Try again.\n"
     ]
    },
    {
     "name": "stdin",
     "output_type": "stream",
     "text": [
      "Enter your guess (or type 'exit' to quit):  8\n"
     ]
    },
    {
     "name": "stdout",
     "output_type": "stream",
     "text": [
      "Too high. Try again.\n"
     ]
    },
    {
     "name": "stdin",
     "output_type": "stream",
     "text": [
      "Enter your guess (or type 'exit' to quit):  9\n"
     ]
    },
    {
     "name": "stdout",
     "output_type": "stream",
     "text": [
      "Too high. Try again.\n"
     ]
    },
    {
     "name": "stdin",
     "output_type": "stream",
     "text": [
      "Enter your guess (or type 'exit' to quit):  5\n"
     ]
    },
    {
     "name": "stdout",
     "output_type": "stream",
     "text": [
      "Congratulations! You guessed it in 5 tries.\n"
     ]
    }
   ],
   "source": [
    "import random\n",
    "\n",
    "secret_number = random.randint(1, 9)\n",
    "guess_count = 0\n",
    "\n",
    "print(\"Guess the number between 1 and 9!\")\n",
    "\n",
    "while True:\n",
    "    guess = input(\"Enter your guess (or type 'exit' to quit): \")\n",
    "\n",
    "    if guess.lower() == 'exit':\n",
    "        print(\"You exited the game.\")\n",
    "        break\n",
    "\n",
    "    if not guess.isdigit():\n",
    "        print(\"Please enter a valid number.\")\n",
    "        continue\n",
    "\n",
    "    guess = int(guess)\n",
    "    guess_count += 1\n",
    "\n",
    "    if guess == secret_number:\n",
    "        print(f\"Congratulations! You guessed it in {guess_count} tries.\")\n",
    "        break\n",
    "    elif guess < secret_number:\n",
    "        print(\"Too low. Try again.\")\n",
    "    else:\n",
    "        print(\"Too high. Try again.\")\n"
   ]
  },
  {
   "cell_type": "markdown",
   "metadata": {},
   "source": [
    "### <font color=\"green\"> Exercise 5: Rock-Paper-Scissors </font>\n",
    "Create a function to make a two-player Rock-Paper-Scissors game. <br>\n",
    "\n",
    "Ask for moves using input, compare them, print out a congratuations message to the winner, and ask if the players would like to start a new game. \n",
    "\n",
    "Remember the rules:\n",
    "* Rock beats scissors\n",
    "* Scissors beats paper\n",
    "* Paper beats rock"
   ]
  },
  {
   "cell_type": "markdown",
   "metadata": {},
   "source": [
    "Before you dive in, write a pseudo-code for your code."
   ]
  },
  {
   "cell_type": "code",
   "execution_count": 1,
   "metadata": {},
   "outputs": [],
   "source": [
    "# bir sonsuz döngü içinde oyuna devam etmek isyip istemedikleri sorulur.\n",
    "# oyuncuların ne seçtiği ekrandan alınır ve kıyaslama yapabilmek için hepsi küçük harfe çevrilir.\n",
    "# oyundaki seçilebilir girdiler dizide tutulur ve harici durumlar engellenmeye çalışılır.\n",
    "# birinci oyuncunun kazandığı olasılıklar koşul ifadesiyle yazılır harici durumlarda 2. oyuncu kazandı varsayılır."
   ]
  },
  {
   "cell_type": "markdown",
   "metadata": {},
   "source": [
    "Follow your pseudo-code!"
   ]
  },
  {
   "cell_type": "code",
   "execution_count": 2,
   "metadata": {},
   "outputs": [
    {
     "name": "stdout",
     "output_type": "stream",
     "text": [
      "Choices: rock, paper, scissors\n"
     ]
    },
    {
     "name": "stdin",
     "output_type": "stream",
     "text": [
      "Player 1, enter your move:  rock\n",
      "Player 2, enter your move:  paper\n"
     ]
    },
    {
     "name": "stdout",
     "output_type": "stream",
     "text": [
      "Player 2 wins! \n"
     ]
    },
    {
     "name": "stdin",
     "output_type": "stream",
     "text": [
      "Do you want to play again? (yes/no):  no\n"
     ]
    },
    {
     "name": "stdout",
     "output_type": "stream",
     "text": [
      "Thanks for playing!\n"
     ]
    }
   ],
   "source": [
    "def rock_paper_scissors():\n",
    "\n",
    "    while True:\n",
    "        \n",
    "        print(\"Choices: rock, paper, scissors\")\n",
    "\n",
    "        player1 = input(\"Player 1, enter your move: \").lower()\n",
    "        player2 = input(\"Player 2, enter your move: \").lower()\n",
    "\n",
    "        valid_moves = ['rock', 'paper', 'scissors']\n",
    "\n",
    "        if player1 not in valid_moves or player2 not in valid_moves:\n",
    "            print(\"Invalid move. Please enter rock, paper, or scissors.\")\n",
    "            continue\n",
    "\n",
    "        if player1 == player2:\n",
    "            print(\"It's a tie!\")\n",
    "        elif (player1 == 'rock' and player2 == 'scissors') or \\\n",
    "             (player1 == 'scissors' and player2 == 'paper') or \\\n",
    "             (player1 == 'paper' and player2 == 'rock'):\n",
    "            print(\"Player 1 wins! \")\n",
    "        else:\n",
    "            print(\"Player 2 wins! \")\n",
    "\n",
    "        again = input(\"Do you want to play again? (yes/no): \").lower()\n",
    "        if again != 'yes':\n",
    "            print(\"Thanks for playing!\")\n",
    "            break\n",
    "\n",
    "\n",
    "rock_paper_scissors()"
   ]
  },
  {
   "cell_type": "markdown",
   "metadata": {},
   "source": [
    "### <font color=\"green\"> Exercise 6: Guessing Game v2 </font>\n",
    "Update your guessing game function to make sure the user is guessing integers (not strings or floats!), and use **try & except** statements here!"
   ]
  },
  {
   "cell_type": "code",
   "execution_count": 3,
   "metadata": {},
   "outputs": [
    {
     "name": "stdout",
     "output_type": "stream",
     "text": [
      "Guess the number between 1 and 9!\n"
     ]
    },
    {
     "name": "stdin",
     "output_type": "stream",
     "text": [
      "Enter your guess (or type 'exit' to quit):  4\n"
     ]
    },
    {
     "name": "stdout",
     "output_type": "stream",
     "text": [
      "Too high. Try again.\n"
     ]
    },
    {
     "name": "stdin",
     "output_type": "stream",
     "text": [
      "Enter your guess (or type 'exit' to quit):  2\n"
     ]
    },
    {
     "name": "stdout",
     "output_type": "stream",
     "text": [
      "Too low. Try again.\n"
     ]
    },
    {
     "name": "stdin",
     "output_type": "stream",
     "text": [
      "Enter your guess (or type 'exit' to quit):  3\n"
     ]
    },
    {
     "name": "stdout",
     "output_type": "stream",
     "text": [
      "Congratulations! You guessed it in 3 tries.\n"
     ]
    }
   ],
   "source": [
    "import random\n",
    "\n",
    "secret_number = random.randint(1, 9)\n",
    "guess_count = 0\n",
    "\n",
    "print(\"Guess the number between 1 and 9!\")\n",
    "\n",
    "while True:\n",
    "    guess = input(\"Enter your guess (or type 'exit' to quit): \")\n",
    "\n",
    "    if guess.lower() == 'exit':\n",
    "        print(\"You exited the game.\")\n",
    "        break\n",
    "\n",
    "    try:\n",
    "        guess_int = int(guess)\n",
    "        if guess_int < 1 or guess_int > 9:\n",
    "            raise ValueError(\"Number out of range\")\n",
    "\n",
    "        guess_count += 1\n",
    "\n",
    "        if guess_int == secret_number:\n",
    "            print(f\"Congratulations! You guessed it in {guess_count} tries.\")\n",
    "            break\n",
    "        elif guess_int < secret_number:\n",
    "            print(\"Too low. Try again.\")\n",
    "        else:\n",
    "            print(\"Too high. Try again.\")\n",
    "\n",
    "    except ValueError as e:\n",
    "        print(\"Invalid input:\", e)\n",
    "        print(\"Please enter a number between 1 and 9, or type 'exit' to quit.\")\n",
    "\n"
   ]
  },
  {
   "cell_type": "markdown",
   "metadata": {},
   "source": [
    "# <font color=\"red\">III. Lambda Expressions </font>"
   ]
  },
  {
   "cell_type": "markdown",
   "metadata": {},
   "source": [
    "A __lambda expression__ is the anonymous equivalent of a normal function whose body is a single return statement. <br>\n",
    "\n",
    "You can use a Lambda in situations where we would need a function that is going to be used only once. \n",
    "\n",
    "The syntax is: \n",
    "__`lambda parameters:expression`__\n",
    "\n",
    "For example:"
   ]
  },
  {
   "cell_type": "code",
   "execution_count": 4,
   "metadata": {},
   "outputs": [
    {
     "data": {
      "text/plain": [
       "7"
      ]
     },
     "execution_count": 4,
     "metadata": {},
     "output_type": "execute_result"
    }
   ],
   "source": [
    "f = lambda x,y: x + y\n",
    "f(3,4)"
   ]
  },
  {
   "cell_type": "code",
   "execution_count": 8,
   "metadata": {},
   "outputs": [
    {
     "name": "stdout",
     "output_type": "stream",
     "text": [
      "22\n",
      "33\n"
     ]
    }
   ],
   "source": [
    "def myfunc(n):\n",
    "    return lambda a : a * n\n",
    "\n",
    "mydoubler = myfunc(2)\n",
    "mytripler = myfunc(3)\n",
    "\n",
    "print(mydoubler(11)) \n",
    "print(mytripler(11))\n",
    "\n",
    "# kodu anladım gibi ama okunabilirliği biraz düşük geldi. Çok sık kullanmıyoruzdur umarım. :)"
   ]
  },
  {
   "cell_type": "markdown",
   "metadata": {},
   "source": [
    "# <font color=\"red\">IV. Built-in Functions </font>"
   ]
  },
  {
   "cell_type": "markdown",
   "metadata": {},
   "source": [
    "The __filter(), map(), and reduce()__ functions are built-in methods that treat an entire sequence of elements as a unit, so that you don't have to name it and work with the elements individually. This way, control statements like __for__ loops, __if__ statements, and __return__ statements are not necessary. <br>\n",
    "\n",
    "These functions are very versatile. They frequently used in Python language to keep the code more readable and better. <br>\n",
    "\n",
    "They are usually used in conjunction with __lambda expressions__ and __list comprehensions__."
   ]
  },
  {
   "cell_type": "markdown",
   "metadata": {},
   "source": [
    "## 4.1 filter()\n",
    "Filter takes a sequence and returns a list of elements from the sequence for which an __expression__ or __function__ is true. \n",
    "\n",
    "Syntax: \n",
    "\n",
    "__`filter(function, sequence)`__\n",
    "\n",
    "For example:"
   ]
  },
  {
   "cell_type": "code",
   "execution_count": 9,
   "metadata": {},
   "outputs": [
    {
     "name": "stdout",
     "output_type": "stream",
     "text": [
      "[6, 7, 8, 9, 10]\n"
     ]
    }
   ],
   "source": [
    "my_list = [1,2,3,4,5,6,7,8,9,10]\n",
    "filtered_list = list(filter(lambda x: x>5, my_list))\n",
    "print(filtered_list)"
   ]
  },
  {
   "cell_type": "markdown",
   "metadata": {},
   "source": [
    "Use a lambda function with filter() to filter out the odd numbers from my_list so that only even numbers remain. <br>\n",
    "**Save the list to the variable evens.**"
   ]
  },
  {
   "cell_type": "code",
   "execution_count": 10,
   "metadata": {},
   "outputs": [
    {
     "name": "stdout",
     "output_type": "stream",
     "text": [
      "[2, 4, 6, 8, 10]\n"
     ]
    }
   ],
   "source": [
    "evens = list (filter (lambda x : x % 2 == 0 , my_list))\n",
    "print( evens )"
   ]
  },
  {
   "cell_type": "markdown",
   "metadata": {},
   "source": [
    "Use a lambda function with filter() to create a list of negative numbers from new_list. <br>\n",
    "**Save the list to the variable negatives.**"
   ]
  },
  {
   "cell_type": "code",
   "execution_count": 11,
   "metadata": {},
   "outputs": [],
   "source": [
    "new_list = [-1,2,-3,4,-5]"
   ]
  },
  {
   "cell_type": "code",
   "execution_count": 20,
   "metadata": {},
   "outputs": [
    {
     "name": "stdout",
     "output_type": "stream",
     "text": [
      "[-1, -3, -5]\n"
     ]
    }
   ],
   "source": [
    "negative_value = list (filter (lambda x: x < 0  , new_list ))\n",
    "print(negative_value)"
   ]
  },
  {
   "cell_type": "markdown",
   "metadata": {},
   "source": [
    "## 4.2 map()\n",
    "The map() function applies an expression or function to each element in a sequence and returns a list of the results. \n",
    "\n",
    "Syntax: \n",
    "\n",
    "__`map(function, sequence)`__\n",
    "\n",
    "For example:"
   ]
  },
  {
   "cell_type": "code",
   "execution_count": 21,
   "metadata": {},
   "outputs": [
    {
     "name": "stdout",
     "output_type": "stream",
     "text": [
      "[2, 3, 4, 5, 6, 7, 8, 9, 10, 11]\n"
     ]
    }
   ],
   "source": [
    "my_list = [1,2,3,4,5,6,7,8,9,10]\n",
    "mapped_list = list(map(lambda x: x+1, my_list))\n",
    "print(mapped_list)"
   ]
  },
  {
   "cell_type": "markdown",
   "metadata": {},
   "source": [
    "Use a lambda function with map() to divide all numbers in my_list by two. <br>\n",
    "**Save the list to the variable by_two.**"
   ]
  },
  {
   "cell_type": "code",
   "execution_count": 23,
   "metadata": {},
   "outputs": [
    {
     "name": "stdout",
     "output_type": "stream",
     "text": [
      "[0.5, 1.0, 1.5, 2.0, 2.5, 3.0, 3.5, 4.0, 4.5, 5.0]\n"
     ]
    }
   ],
   "source": [
    "by_two = list(map(lambda x: x/2 , my_list))\n",
    "print(by_two)"
   ]
  },
  {
   "cell_type": "markdown",
   "metadata": {},
   "source": [
    "Use a lambda function with map() to square all numbers in my_list. <br> \n",
    "**Save the list to the variable squared.**"
   ]
  },
  {
   "cell_type": "code",
   "execution_count": 25,
   "metadata": {},
   "outputs": [
    {
     "name": "stdout",
     "output_type": "stream",
     "text": [
      "[1, 4, 9, 16, 25, 36, 49, 64, 81, 100]\n"
     ]
    }
   ],
   "source": [
    "variable_squared = list(map(lambda x: x*x, my_list))\n",
    "print(variable_squared)"
   ]
  },
  {
   "cell_type": "markdown",
   "metadata": {},
   "source": [
    "## 4.3 reduce()\n",
    "The reduce() function applies an expression or a function from left to right, to reduce the sequence to a single value. <br>\n",
    "The __function__ must be called with 2 arguments, which are the first 2 items of the sequence. <br>\n",
    "reduce() then uses the result of the first call as one of the arguments and the third item as <br>\n",
    "the second and so on until it iterates through the whole list. \n",
    "\n",
    "Syntax: \n",
    "\n",
    "__`reduce(function, sequence, [, init])`__\n",
    "The init portion is optional. \n",
    "\n",
    "For example:"
   ]
  },
  {
   "cell_type": "code",
   "execution_count": 27,
   "metadata": {},
   "outputs": [],
   "source": [
    "from functools import reduce"
   ]
  },
  {
   "cell_type": "code",
   "execution_count": 28,
   "metadata": {},
   "outputs": [
    {
     "name": "stdout",
     "output_type": "stream",
     "text": [
      "55\n"
     ]
    }
   ],
   "source": [
    "my_list = [1,2,3,4,5,6,7,8,9,10]\n",
    "reduced_list = reduce(lambda x,y: x+y, my_list)\n",
    "print(reduced_list)"
   ]
  },
  {
   "cell_type": "markdown",
   "metadata": {},
   "source": [
    "We can use the optional __init__ item for reduce to include that element as well. <br>\n",
    "For example, this function will be 100 more than our above example: \n",
    "\n",
    "__`my_list = [1,2,3,4,5,6,7,8,9,10]\n",
    "reduced_plus = reduce(lambda x,y: x+y, my_list, 100)\n",
    "print(reduced_plus)`__"
   ]
  },
  {
   "cell_type": "code",
   "execution_count": 29,
   "metadata": {},
   "outputs": [
    {
     "name": "stdout",
     "output_type": "stream",
     "text": [
      "155\n"
     ]
    }
   ],
   "source": [
    "reduced_plus = reduce(lambda x,y: x+y, my_list, 100)\n",
    "print(reduced_plus)"
   ]
  },
  {
   "cell_type": "markdown",
   "metadata": {},
   "source": [
    "### <img src='http://www.thedevmasters.com/wp-content/uploads/2015/12/cropped-pp.png' width = '50' height = '50' align = 'right'>"
   ]
  }
 ],
 "metadata": {
  "anaconda-cloud": {},
  "kernelspec": {
   "display_name": "Python 3 (ipykernel)",
   "language": "python",
   "name": "python3"
  },
  "language_info": {
   "codemirror_mode": {
    "name": "ipython",
    "version": 3
   },
   "file_extension": ".py",
   "mimetype": "text/x-python",
   "name": "python",
   "nbconvert_exporter": "python",
   "pygments_lexer": "ipython3",
   "version": "3.9.13"
  }
 },
 "nbformat": 4,
 "nbformat_minor": 4
}
