{
 "cells": [
  {
   "cell_type": "code",
   "execution_count": null,
   "id": "0795b72b-50cc-4c26-8623-82533b95340a",
   "metadata": {},
   "outputs": [],
   "source": [
    "!python -m http.server 8080"
   ]
  },
  {
   "cell_type": "code",
   "execution_count": null,
   "id": "d3629b68-3ef5-4087-ad16-9bc3959bdc1e",
   "metadata": {},
   "outputs": [],
   "source": []
  }
 ],
 "metadata": {
  "kernelspec": {
   "display_name": "Python [conda env:base] *",
   "language": "python",
   "name": "conda-base-py"
  },
  "language_info": {
   "codemirror_mode": {
    "name": "ipython",
    "version": 3
   },
   "file_extension": ".py",
   "mimetype": "text/x-python",
   "name": "python",
   "nbconvert_exporter": "python",
   "pygments_lexer": "ipython3",
   "version": "3.12.3"
  }
 },
 "nbformat": 4,
 "nbformat_minor": 5
}
