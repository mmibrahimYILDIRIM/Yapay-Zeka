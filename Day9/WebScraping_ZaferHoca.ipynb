{
 "cells": [
  {
   "cell_type": "code",
   "execution_count": null,
   "id": "01c4f77b-051a-4c51-8018-3e12d20729b6",
   "metadata": {},
   "outputs": [],
   "source": [
    "from bs4 import BeautifulSoup as soup"
   ]
  },
  {
   "cell_type": "code",
   "execution_count": null,
   "id": "8b3202b3-5bdc-4d1c-a21f-f3a93e126bce",
   "metadata": {},
   "outputs": [],
   "source": [
    "import requests"
   ]
  },
  {
   "cell_type": "code",
   "execution_count": null,
   "id": "6d8ad781-95a5-4045-b622-2394400ce0d9",
   "metadata": {},
   "outputs": [],
   "source": [
    "page=requests.get('http://localhost:8080')"
   ]
  },
  {
   "cell_type": "code",
   "execution_count": null,
   "id": "614e05c5-3ae0-4cef-9744-f0ff53dfa570",
   "metadata": {},
   "outputs": [],
   "source": [
    "page.content"
   ]
  },
  {
   "cell_type": "code",
   "execution_count": null,
   "id": "08c9c2fc-9f2a-4f7f-b400-102b8917a58b",
   "metadata": {},
   "outputs": [],
   "source": [
    "sp=soup(page.content, 'html.parser')"
   ]
  },
  {
   "cell_type": "code",
   "execution_count": null,
   "id": "b773b729-0267-49c7-b771-31592da39c13",
   "metadata": {},
   "outputs": [],
   "source": [
    "sp2=sp.prettify"
   ]
  },
  {
   "cell_type": "code",
   "execution_count": 3,
   "id": "a4aaeb23-1511-4d8c-9cb0-badd9d82ef71",
   "metadata": {},
   "outputs": [
    {
     "ename": "NameError",
     "evalue": "name 'sp' is not defined",
     "output_type": "error",
     "traceback": [
      "\u001b[1;31m---------------------------------------------------------------------------\u001b[0m",
      "\u001b[1;31mNameError\u001b[0m                                 Traceback (most recent call last)",
      "Cell \u001b[1;32mIn[3], line 1\u001b[0m\n\u001b[1;32m----> 1\u001b[0m siir\u001b[38;5;241m=\u001b[39msp\u001b[38;5;241m.\u001b[39mfind(\u001b[38;5;124m'\u001b[39m\u001b[38;5;124mp\u001b[39m\u001b[38;5;124m'\u001b[39m)\n",
      "\u001b[1;31mNameError\u001b[0m: name 'sp' is not defined"
     ]
    }
   ],
   "source": [
    "siir=sp.find('p')"
   ]
  },
  {
   "cell_type": "code",
   "execution_count": null,
   "id": "a5ff1352-9a9c-4871-8234-81283ba2ebaa",
   "metadata": {},
   "outputs": [],
   "source": [
    "siir.text.replace('\\r',' ').replace('\\n','')"
   ]
  },
  {
   "cell_type": "code",
   "execution_count": null,
   "id": "ecf98368-b502-4e4c-b232-2086f7cf948a",
   "metadata": {},
   "outputs": [],
   "source": [
    "page=requests.get('https://www.karar.com/yazarlar/zafer-acar/herkes-nerede-7320')"
   ]
  },
  {
   "cell_type": "code",
   "execution_count": null,
   "id": "2c3febe4-c963-4f8c-b516-6f080e00fcda",
   "metadata": {},
   "outputs": [],
   "source": [
    "soup2=soup(page.content, 'html.parser')"
   ]
  },
  {
   "cell_type": "code",
   "execution_count": 8,
   "id": "aa7d50f8-81dc-4310-be3d-f27bf7817b48",
   "metadata": {},
   "outputs": [
    {
     "ename": "NameError",
     "evalue": "name 'soup2' is not defined",
     "output_type": "error",
     "traceback": [
      "\u001b[1;31m---------------------------------------------------------------------------\u001b[0m",
      "\u001b[1;31mNameError\u001b[0m                                 Traceback (most recent call last)",
      "Cell \u001b[1;32mIn[8], line 1\u001b[0m\n\u001b[1;32m----> 1\u001b[0m soup2\u001b[38;5;241m.\u001b[39mselect(\u001b[38;5;124m'\u001b[39m\u001b[38;5;124mh1.content-title\u001b[39m\u001b[38;5;124m'\u001b[39m)[\u001b[38;5;241m0\u001b[39m]\u001b[38;5;241m.\u001b[39mtext\n",
      "\u001b[1;31mNameError\u001b[0m: name 'soup2' is not defined"
     ]
    }
   ],
   "source": [
    "soup2.select('h1.content-title')[0].text"
   ]
  },
  {
   "cell_type": "code",
   "execution_count": 10,
   "id": "b75fb5af-659d-41e7-8425-ecc191f0b9b5",
   "metadata": {
    "scrolled": true
   },
   "outputs": [
    {
     "ename": "NameError",
     "evalue": "name 'soup2' is not defined",
     "output_type": "error",
     "traceback": [
      "\u001b[1;31m---------------------------------------------------------------------------\u001b[0m",
      "\u001b[1;31mNameError\u001b[0m                                 Traceback (most recent call last)",
      "Cell \u001b[1;32mIn[10], line 1\u001b[0m\n\u001b[1;32m----> 1\u001b[0m soup2\u001b[38;5;241m.\u001b[39mselect(\u001b[38;5;124m'\u001b[39m\u001b[38;5;124marticle.article-content\u001b[39m\u001b[38;5;124m'\u001b[39m)[\u001b[38;5;241m0\u001b[39m]\u001b[38;5;241m.\u001b[39mtext\n",
      "\u001b[1;31mNameError\u001b[0m: name 'soup2' is not defined"
     ]
    }
   ],
   "source": [
    "soup2.select('article.article-content')[0].text"
   ]
  },
  {
   "cell_type": "code",
   "execution_count": null,
   "id": "c6c064c3-2cb8-460d-bb8f-24bd8e10c737",
   "metadata": {},
   "outputs": [],
   "source": [
    "page=requests.get('https://www.karar.com/yazarlar/zafer-acar')"
   ]
  },
  {
   "cell_type": "code",
   "execution_count": null,
   "id": "840ba072-ad0d-4df1-bd58-17de3e50e301",
   "metadata": {},
   "outputs": [],
   "source": [
    "from bs4 import BeautifulSoup as soup"
   ]
  },
  {
   "cell_type": "code",
   "execution_count": null,
   "id": "66dbbb3c-1679-4fc8-bb22-23d4d3a589b6",
   "metadata": {},
   "outputs": [],
   "source": [
    "soup2=soup(page.content, 'html.parser')"
   ]
  },
  {
   "cell_type": "code",
   "execution_count": null,
   "id": "ba16ffc1-38cb-47b6-9290-eace32476101",
   "metadata": {
    "scrolled": true
   },
   "outputs": [],
   "source": [
    "soup2.prettify"
   ]
  },
  {
   "cell_type": "code",
   "execution_count": null,
   "id": "4ca790c4-c3d4-4453-9063-2a41130aaf65",
   "metadata": {},
   "outputs": [],
   "source": [
    "linkler=soup.find_all('article',{'class':'item box-shadow'})"
   ]
  },
  {
   "cell_type": "code",
   "execution_count": null,
   "id": "921981b9-9fab-4a93-a5dc-bb7fa39c6cda",
   "metadata": {},
   "outputs": [],
   "source": [
    "linkler"
   ]
  },
  {
   "cell_type": "code",
   "execution_count": null,
   "id": "9744c41c-93cf-4539-9785-1508b218dba2",
   "metadata": {},
   "outputs": [],
   "source": [
    "from bs4 import BeautifulSoup as soup\n",
    "yazilar=[]\n",
    "basliklar=[]\n",
    "for link in linkler:\n",
    "    link1='https://www.karar.com'+link.a.get('href')\n",
    "    baslik=link.h3.text\n",
    "    page2=requests.get(link1)\n",
    "    soup2=soup(page2.content, 'html.parser')\n",
    "    makale=soup2.select('article.article-content')[0].text\n",
    "    yazilar.append(makale)\n",
    "    basliklar.append(baslik)"
   ]
  },
  {
   "cell_type": "code",
   "execution_count": null,
   "id": "5b2da97b-4050-40ee-be89-043d56df3087",
   "metadata": {},
   "outputs": [],
   "source": [
    "import pandas as pd"
   ]
  },
  {
   "cell_type": "code",
   "execution_count": null,
   "id": "7da16c2d-5cda-4c5d-9bdb-1730eb55ba5c",
   "metadata": {},
   "outputs": [],
   "source": [
    "df=pd.DataFrame({'Title':basliklar,'Article':yazilar})"
   ]
  },
  {
   "cell_type": "code",
   "execution_count": null,
   "id": "0f79d28b-5b60-472a-8af7-0393251164be",
   "metadata": {},
   "outputs": [],
   "source": [
    "df.head()"
   ]
  },
  {
   "cell_type": "code",
   "execution_count": null,
   "id": "6892c716-e3b4-4e6a-9c81-c8be753f0723",
   "metadata": {},
   "outputs": [],
   "source": []
  }
 ],
 "metadata": {
  "kernelspec": {
   "display_name": "Python [conda env:base] *",
   "language": "python",
   "name": "conda-base-py"
  },
  "language_info": {
   "codemirror_mode": {
    "name": "ipython",
    "version": 3
   },
   "file_extension": ".py",
   "mimetype": "text/x-python",
   "name": "python",
   "nbconvert_exporter": "python",
   "pygments_lexer": "ipython3",
   "version": "3.12.3"
  }
 },
 "nbformat": 4,
 "nbformat_minor": 5
}
