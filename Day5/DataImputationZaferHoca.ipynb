{
 "cells": [
  {
   "cell_type": "markdown",
   "id": "aa7cc711-fcc3-44fd-91fa-b3e7adfd7550",
   "metadata": {},
   "source": [
    "# Data Imputation - Bos verileri doldurma"
   ]
  },
  {
   "cell_type": "markdown",
   "id": "6d72c2ad-878c-451b-b606-d779750ef8cd",
   "metadata": {},
   "source": [
    "<img src=imputation.png>"
   ]
  },
  {
   "cell_type": "code",
   "execution_count": 4,
   "id": "83661c9c-3292-4c76-ac6a-4434870529e7",
   "metadata": {},
   "outputs": [],
   "source": [
    "import pandas as pd"
   ]
  },
  {
   "cell_type": "code",
   "execution_count": 6,
   "id": "620d6456-6c01-40f4-b12f-16f20beda449",
   "metadata": {},
   "outputs": [],
   "source": [
    "df=pd.read_csv('ExampleData.csv')"
   ]
  },
  {
   "cell_type": "code",
   "execution_count": 8,
   "id": "912e07b7-d238-4f6e-879b-6e0407ee84d4",
   "metadata": {},
   "outputs": [
    {
     "data": {
      "text/html": [
       "<div>\n",
       "<style scoped>\n",
       "    .dataframe tbody tr th:only-of-type {\n",
       "        vertical-align: middle;\n",
       "    }\n",
       "\n",
       "    .dataframe tbody tr th {\n",
       "        vertical-align: top;\n",
       "    }\n",
       "\n",
       "    .dataframe thead th {\n",
       "        text-align: right;\n",
       "    }\n",
       "</style>\n",
       "<table border=\"1\" class=\"dataframe\">\n",
       "  <thead>\n",
       "    <tr style=\"text-align: right;\">\n",
       "      <th></th>\n",
       "      <th>Height</th>\n",
       "      <th>YOE</th>\n",
       "      <th>Salary</th>\n",
       "    </tr>\n",
       "  </thead>\n",
       "  <tbody>\n",
       "    <tr>\n",
       "      <th>0</th>\n",
       "      <td>175.0</td>\n",
       "      <td>3.0</td>\n",
       "      <td>6.0</td>\n",
       "    </tr>\n",
       "    <tr>\n",
       "      <th>1</th>\n",
       "      <td>168.0</td>\n",
       "      <td>4.0</td>\n",
       "      <td>9.0</td>\n",
       "    </tr>\n",
       "    <tr>\n",
       "      <th>2</th>\n",
       "      <td>160.0</td>\n",
       "      <td>10.0</td>\n",
       "      <td>18.0</td>\n",
       "    </tr>\n",
       "    <tr>\n",
       "      <th>3</th>\n",
       "      <td>NaN</td>\n",
       "      <td>15.0</td>\n",
       "      <td>25.0</td>\n",
       "    </tr>\n",
       "    <tr>\n",
       "      <th>4</th>\n",
       "      <td>161.0</td>\n",
       "      <td>NaN</td>\n",
       "      <td>50.0</td>\n",
       "    </tr>\n",
       "    <tr>\n",
       "      <th>5</th>\n",
       "      <td>162.0</td>\n",
       "      <td>5.0</td>\n",
       "      <td>10.0</td>\n",
       "    </tr>\n",
       "    <tr>\n",
       "      <th>6</th>\n",
       "      <td>180.0</td>\n",
       "      <td>6.0</td>\n",
       "      <td>11.0</td>\n",
       "    </tr>\n",
       "    <tr>\n",
       "      <th>7</th>\n",
       "      <td>NaN</td>\n",
       "      <td>7.0</td>\n",
       "      <td>NaN</td>\n",
       "    </tr>\n",
       "    <tr>\n",
       "      <th>8</th>\n",
       "      <td>172.0</td>\n",
       "      <td>8.0</td>\n",
       "      <td>12.0</td>\n",
       "    </tr>\n",
       "    <tr>\n",
       "      <th>9</th>\n",
       "      <td>170.0</td>\n",
       "      <td>9.0</td>\n",
       "      <td>14.0</td>\n",
       "    </tr>\n",
       "    <tr>\n",
       "      <th>10</th>\n",
       "      <td>175.0</td>\n",
       "      <td>3.0</td>\n",
       "      <td>6.0</td>\n",
       "    </tr>\n",
       "    <tr>\n",
       "      <th>11</th>\n",
       "      <td>168.0</td>\n",
       "      <td>4.0</td>\n",
       "      <td>9.0</td>\n",
       "    </tr>\n",
       "    <tr>\n",
       "      <th>12</th>\n",
       "      <td>160.0</td>\n",
       "      <td>10.0</td>\n",
       "      <td>18.0</td>\n",
       "    </tr>\n",
       "    <tr>\n",
       "      <th>13</th>\n",
       "      <td>NaN</td>\n",
       "      <td>15.0</td>\n",
       "      <td>25.0</td>\n",
       "    </tr>\n",
       "    <tr>\n",
       "      <th>14</th>\n",
       "      <td>161.0</td>\n",
       "      <td>NaN</td>\n",
       "      <td>50.0</td>\n",
       "    </tr>\n",
       "    <tr>\n",
       "      <th>15</th>\n",
       "      <td>162.0</td>\n",
       "      <td>5.0</td>\n",
       "      <td>10.0</td>\n",
       "    </tr>\n",
       "    <tr>\n",
       "      <th>16</th>\n",
       "      <td>180.0</td>\n",
       "      <td>6.0</td>\n",
       "      <td>11.0</td>\n",
       "    </tr>\n",
       "    <tr>\n",
       "      <th>17</th>\n",
       "      <td>NaN</td>\n",
       "      <td>7.0</td>\n",
       "      <td>NaN</td>\n",
       "    </tr>\n",
       "    <tr>\n",
       "      <th>18</th>\n",
       "      <td>172.0</td>\n",
       "      <td>8.0</td>\n",
       "      <td>12.0</td>\n",
       "    </tr>\n",
       "    <tr>\n",
       "      <th>19</th>\n",
       "      <td>170.0</td>\n",
       "      <td>9.0</td>\n",
       "      <td>14.0</td>\n",
       "    </tr>\n",
       "    <tr>\n",
       "      <th>20</th>\n",
       "      <td>161.0</td>\n",
       "      <td>NaN</td>\n",
       "      <td>50.0</td>\n",
       "    </tr>\n",
       "    <tr>\n",
       "      <th>21</th>\n",
       "      <td>162.0</td>\n",
       "      <td>5.0</td>\n",
       "      <td>10.0</td>\n",
       "    </tr>\n",
       "    <tr>\n",
       "      <th>22</th>\n",
       "      <td>180.0</td>\n",
       "      <td>6.0</td>\n",
       "      <td>11.0</td>\n",
       "    </tr>\n",
       "    <tr>\n",
       "      <th>23</th>\n",
       "      <td>NaN</td>\n",
       "      <td>7.0</td>\n",
       "      <td>NaN</td>\n",
       "    </tr>\n",
       "    <tr>\n",
       "      <th>24</th>\n",
       "      <td>175.0</td>\n",
       "      <td>3.0</td>\n",
       "      <td>6.0</td>\n",
       "    </tr>\n",
       "  </tbody>\n",
       "</table>\n",
       "</div>"
      ],
      "text/plain": [
       "    Height   YOE  Salary\n",
       "0    175.0   3.0     6.0\n",
       "1    168.0   4.0     9.0\n",
       "2    160.0  10.0    18.0\n",
       "3      NaN  15.0    25.0\n",
       "4    161.0   NaN    50.0\n",
       "5    162.0   5.0    10.0\n",
       "6    180.0   6.0    11.0\n",
       "7      NaN   7.0     NaN\n",
       "8    172.0   8.0    12.0\n",
       "9    170.0   9.0    14.0\n",
       "10   175.0   3.0     6.0\n",
       "11   168.0   4.0     9.0\n",
       "12   160.0  10.0    18.0\n",
       "13     NaN  15.0    25.0\n",
       "14   161.0   NaN    50.0\n",
       "15   162.0   5.0    10.0\n",
       "16   180.0   6.0    11.0\n",
       "17     NaN   7.0     NaN\n",
       "18   172.0   8.0    12.0\n",
       "19   170.0   9.0    14.0\n",
       "20   161.0   NaN    50.0\n",
       "21   162.0   5.0    10.0\n",
       "22   180.0   6.0    11.0\n",
       "23     NaN   7.0     NaN\n",
       "24   175.0   3.0     6.0"
      ]
     },
     "execution_count": 8,
     "metadata": {},
     "output_type": "execute_result"
    }
   ],
   "source": [
    "df"
   ]
  },
  {
   "cell_type": "code",
   "execution_count": 10,
   "id": "b467d9c8-80cf-42a8-b5a9-7effefa43c79",
   "metadata": {},
   "outputs": [],
   "source": [
    "# linear REgression"
   ]
  },
  {
   "cell_type": "code",
   "execution_count": 12,
   "id": "fd42bdb6-79f1-45a3-a948-ee18740786bc",
   "metadata": {},
   "outputs": [],
   "source": [
    "from sklearn.experimental import enable_iterative_imputer\n",
    "from sklearn.impute import IterativeImputer\n",
    "from sklearn.linear_model import LinearRegression"
   ]
  },
  {
   "cell_type": "code",
   "execution_count": 14,
   "id": "6b4aaf1c-194d-4281-9de0-46aaef8c27e5",
   "metadata": {},
   "outputs": [],
   "source": [
    "lr=LinearRegression()\n",
    "imp=IterativeImputer(estimator=lr)\n",
    "imputed_data=imp.fit_transform(df)"
   ]
  },
  {
   "cell_type": "code",
   "execution_count": null,
   "id": "60e4712a-3067-4122-bf07-a274fcbf3aaa",
   "metadata": {},
   "outputs": [],
   "source": [
    "pd.DataFrame(imputed_data)"
   ]
  },
  {
   "cell_type": "code",
   "execution_count": 20,
   "id": "54daede7-be7e-4587-a474-12d3331068ca",
   "metadata": {},
   "outputs": [],
   "source": [
    "from sklearn.impute import KNNImputer"
   ]
  },
  {
   "cell_type": "code",
   "execution_count": 22,
   "id": "6ef05530-4917-404a-8da1-41ce73f4f7fe",
   "metadata": {},
   "outputs": [],
   "source": [
    "knn=KNNImputer()"
   ]
  },
  {
   "cell_type": "code",
   "execution_count": 24,
   "id": "2055bb23-3846-422f-b0e4-04e8e9ebd599",
   "metadata": {},
   "outputs": [],
   "source": [
    "imputed_data=knn.fit_transform(df)"
   ]
  },
  {
   "cell_type": "code",
   "execution_count": null,
   "id": "b73af8da-d014-477b-a25b-123a735bd803",
   "metadata": {},
   "outputs": [],
   "source": [
    "pd.DataFrame(imputed_data)"
   ]
  },
  {
   "cell_type": "code",
   "execution_count": 32,
   "id": "6bf5fc86-ab4a-4cca-8de5-1d1cc3e08620",
   "metadata": {},
   "outputs": [],
   "source": [
    "from sklearn.impute import SimpleImputer"
   ]
  },
  {
   "cell_type": "code",
   "execution_count": 34,
   "id": "fdb6a610-4286-4fce-8753-05626a1c1631",
   "metadata": {},
   "outputs": [],
   "source": [
    "imp=SimpleImputer(strategy='mean') #  median, mode"
   ]
  },
  {
   "cell_type": "code",
   "execution_count": 36,
   "id": "5050dc3b-ccde-41ad-968b-e731a8a9237b",
   "metadata": {},
   "outputs": [],
   "source": [
    "imputed_data3=imp.fit_transform(df)"
   ]
  },
  {
   "cell_type": "code",
   "execution_count": null,
   "id": "663bb859-7736-40b8-b7c0-fdc8dfdc6245",
   "metadata": {
    "scrolled": true
   },
   "outputs": [],
   "source": [
    "pd.DataFrame(imputed_data3)"
   ]
  },
  {
   "cell_type": "code",
   "execution_count": 42,
   "id": "210eabb8-55ac-4df8-ab7c-3d54d06e9cb3",
   "metadata": {},
   "outputs": [],
   "source": [
    "#pip install miceforest"
   ]
  },
  {
   "cell_type": "code",
   "execution_count": 56,
   "id": "7acccc8e-88a5-4b59-947a-9d41099585d4",
   "metadata": {},
   "outputs": [],
   "source": [
    "import miceforest as mf"
   ]
  },
  {
   "cell_type": "code",
   "execution_count": 58,
   "id": "92227d38-4ba5-41d9-968a-79f067f1725b",
   "metadata": {},
   "outputs": [],
   "source": [
    "imp=mf.ImputationKernel(df)"
   ]
  },
  {
   "cell_type": "code",
   "execution_count": 60,
   "id": "0f576052-ad4b-4e16-8863-0069b5509014",
   "metadata": {},
   "outputs": [
    {
     "data": {
      "text/plain": [
       "<bound method ImputedData.complete_data of \n",
       "              Class: ImputationKernel\n",
       "            Datasets: 1\n",
       "          Iterations: 0\n",
       "        Data Samples: 25\n",
       "        Data Columns: 3\n",
       "   Imputed Variables: 3\n",
       "   Modeled Variables: 3\n",
       "All Iterations Saved: True\n",
       "        >"
      ]
     },
     "execution_count": 60,
     "metadata": {},
     "output_type": "execute_result"
    }
   ],
   "source": [
    "imp.complete_data"
   ]
  },
  {
   "cell_type": "code",
   "execution_count": null,
   "id": "52c81eea-be7e-4914-afd6-625f58b34096",
   "metadata": {
    "scrolled": true
   },
   "outputs": [],
   "source": [
    "df.ffill(axis=1)"
   ]
  },
  {
   "cell_type": "code",
   "execution_count": null,
   "id": "c4564de3-8316-49a3-b437-a8d04dfc85ee",
   "metadata": {},
   "outputs": [],
   "source": [
    "df.bfill(axis=1)"
   ]
  },
  {
   "cell_type": "code",
   "execution_count": null,
   "id": "5a07cdd2-844f-487b-874f-bcbabe30cbd3",
   "metadata": {},
   "outputs": [],
   "source": []
  }
 ],
 "metadata": {
  "kernelspec": {
   "display_name": "Python [conda env:base] *",
   "language": "python",
   "name": "conda-base-py"
  },
  "language_info": {
   "codemirror_mode": {
    "name": "ipython",
    "version": 3
   },
   "file_extension": ".py",
   "mimetype": "text/x-python",
   "name": "python",
   "nbconvert_exporter": "python",
   "pygments_lexer": "ipython3",
   "version": "3.12.3"
  }
 },
 "nbformat": 4,
 "nbformat_minor": 5
}
