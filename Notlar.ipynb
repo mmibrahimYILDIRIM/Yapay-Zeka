{
 "cells": [
  {
   "cell_type": "code",
   "execution_count": null,
   "id": "a2b79822",
   "metadata": {},
   "outputs": [],
   "source": [
    "# import pandas as pd    # Pandas kütüphanesini çağırmaya yarar\n",
    "# pip install xlrd  # Excel dosyalarını okumak için gerekli kütüphanedir\n",
    "# import matplotlib.pyplot as plt\n",
    "# import seaborn as sns\n",
    "# df Dataframe demektir. Dataları okurken bu isimde okuyoruz.\n",
    "# df=pd.read_csv(...csv)  txt datalarınıda böyle okuruz\n",
    "# df.head()  Baştan 5 veriyi gösterir\n",
    "# df.tail() Sondan 5 veriyi gösterir\n",
    "# df.shape  Verinin boyutunu gösterir\n",
    "# df.plot() Verilerin grafiğini çizer\n",
    "# df.describe()  Bütün stünların istatistiksel verilerini verir(Max-Mean vs.)\n",
    "# df.describe().to_excel('istatik.xlsx')    # Describe kısmını excel olarak kaydettik\n",
    "# df.isnull().sum()    # Hangi stünda kaç tane boş veri var onu gösterir Bu verileri tamamlamak lazım\n",
    "# df['college']=df['college'].fillna('Pending')  college stünundaki boş verileri Pending olarak doldurur\n",
    "# df[df['college']=='Pending']    #college Pending olanları getiriyor sadece\n",
    "# df.corr()  Korelasyon işlemini yapar\n",
    "# df.heightfeet.max(),df.heightfeet.min(),df.heightfeet.std(),df.heightfeet.var(),df.heightfeet.mean()  max-min-standart sapma-variant ve ortalama bulabiliriz\n",
    "# del df['pick'] # %80 boşsa o stünü silmeliyiz ama veriler değerliyse silmiyoruz # Silmeye yarar\n",
    "# df['Gender'].nunique()  Gender stünunun kısmının kaç çeşit veriden oluştuğunu gösterecektir\n",
    "# df['Gender'].value_counts()  İçinde her çeşitten kaç tane veri olduğunu sayacaktır\n",
    "# df[df['Age']<18]  Age stünunda 18 den küçükleri gösterir\n",
    "# df.columns.str.upper()  Stünları büyük harf yapar\n",
    "# pd.read_excel('...xlsx') Excel datalarını okur\n",
    "# pd.read_xml('....xml')   xml datalarını okur\n",
    "# pd.read_html('İnternet Linki')[Kaçıncı tablo]   ile internet üzerinden veri çekebilirsin\n",
    "# df=pd.read_clipboard()    # Chromeda beğendiğin tabloları ctrl c ile kopyaladığında hafızada ki tabloyu almaya yarıyor\n",
    "# df.to_excel('...xlsx')  Excel olarak kaydetmeye yarar\n",
    "# df.drop([0,1,2]) 0.1.2. satırları çıkarmaya yarar\n",
    "# df[['FIRST_NAME','AGE','EYE_COLOR']]   İsmi geçen stündaki verileri gösterir\n",
    "# df.loc[5:11]  6 ve 11 arasındaki satırları gösterir\n",
    "# df.iloc[5:11]  5 ve 10 arasındaki satırları gösterir\n",
    "# df.iloc[5:12,[1,3,4]]  5. ve 11. satırlar arasını ve 1,3,4 stünları gösterir araya virgül koyduğumuz için [] başladık\n",
    "# df[df['LAST_NAME']=='Smith']  ilk df fonksiyona gider 2. df ise fonksiyon içinde ki stüna gider ve ismi Smith olan dataları gösterir\n",
    "# df['HAIR_COLOR']=df['HAIR_COLOR'].replace('red','ginger')  önce yeni df tanımlamak için = kullandık artık eski data üzerine yazmış olacağız\n",
    "# ve HAIR_COLOR stünü içinde .replace ile ilk red değişecek olan ginger da yerine yazılacak olan datadır.\n",
    "# df[(df['AGE']>30)&(df['GENDER']=='F')]  ilk df bu fonksiyon içinde çalış demek ve df Age 30 dan büyük olan ve gender F olanları seçtirdik\n",
    "# unique=df[['HAIR_COLOR','EYE_COLOR']].drop_duplicates()  unique adında bir data frame tanımladık ve içinden Hair ve Eye Color stununda tekrar eden verileri\n",
    "# drop_duplicates() ile çıkardık\n",
    "# pd.merge(df,df1)   Komut ile iki dataframi birleştirdik\n",
    "# detailed_sales.groupby('CUSTOMER_ID').agg({'PRICE':'sum'})   grupby ile belirtilen stündaki aynı olanları grupladık ve agg komutu ile price kısmındakileri toplamasını söyledik gruplarken\n",
    "# idxmax()  komutu ile max olan datayı buluruz\n",
    "# detailed_sales.to_csv('df_out.csv', index=False) \n",
    "# detailed_sales.to_pickle('df_out.p')   farklı uzantılarda kaydedebiliriz\n",
    "# pwd # Bilgisayarda hangi konuma kayıt ediyor onu gösterioyr\n",
    "# ls    # Klasörün içinde ki dosyaları gösterir\n",
    "# dir(plt)  # plt ile ilgili neler yapabiliriz bütün kodları verir\n",
    "# df['Date']=pd.to_datetime(df['Date'])    # Data tipini değiştiriyoruz\n",
    "# df['Day']=(df['Date']).dt.day\n",
    "# df['Month']=(df['Date']).dt.month\n",
    "# df['Year']=(df['Date']).dt.year\n",
    "# df['month_name']=df['Date'].dt.month_name()\n",
    "# df['weekday']=df['Date'].dt.day_name()\n",
    "# df['Time']=pd.to_datetime(df['Time']) \n",
    "# df['Hour']=(df['Time']).dt.hour\n",
    "# sns.countplot(x=df['month_name'],hue=df['month_name'])    # Grafik oluşturmaya yarar x-y kısmnı tanımlıyoruz"
   ]
  }
 ],
 "metadata": {
  "kernelspec": {
   "display_name": "Python 3 (ipykernel)",
   "language": "python",
   "name": "python3"
  },
  "language_info": {
   "codemirror_mode": {
    "name": "ipython",
    "version": 3
   },
   "file_extension": ".py",
   "mimetype": "text/x-python",
   "name": "python",
   "nbconvert_exporter": "python",
   "pygments_lexer": "ipython3",
   "version": "3.9.13"
  }
 },
 "nbformat": 4,
 "nbformat_minor": 5
}
